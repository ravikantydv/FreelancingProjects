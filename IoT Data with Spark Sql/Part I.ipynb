{
  "nbformat": 4,
  "nbformat_minor": 0,
  "metadata": {
    "colab": {
      "provenance": []
    },
    "kernelspec": {
      "name": "python3",
      "display_name": "Python 3"
    },
    "language_info": {
      "name": "python"
    }
  },
  "cells": [
    {
      "cell_type": "code",
      "execution_count": 1,
      "metadata": {
        "colab": {
          "base_uri": "https://localhost:8080/"
        },
        "id": "Uu2q5-R-0puY",
        "outputId": "e07b3016-09ab-4fad-bb8b-9bf4c30b50ef"
      },
      "outputs": [
        {
          "output_type": "stream",
          "name": "stdout",
          "text": [
            "Get:1 https://cloud.r-project.org/bin/linux/ubuntu focal-cran40/ InRelease [3,622 B]\n",
            "Get:2 https://developer.download.nvidia.com/compute/cuda/repos/ubuntu2004/x86_64  InRelease [1,581 B]\n",
            "Hit:3 http://ppa.launchpad.net/c2d4u.team/c2d4u4.0+/ubuntu focal InRelease\n",
            "Hit:4 http://archive.ubuntu.com/ubuntu focal InRelease\n",
            "Get:5 http://security.ubuntu.com/ubuntu focal-security InRelease [114 kB]\n",
            "Get:6 https://developer.download.nvidia.com/compute/cuda/repos/ubuntu2004/x86_64  Packages [1,083 kB]\n",
            "Get:7 http://archive.ubuntu.com/ubuntu focal-updates InRelease [114 kB]\n",
            "Hit:8 http://ppa.launchpad.net/cran/libgit2/ubuntu focal InRelease\n",
            "Hit:9 http://ppa.launchpad.net/deadsnakes/ppa/ubuntu focal InRelease\n",
            "Get:10 http://archive.ubuntu.com/ubuntu focal-backports InRelease [108 kB]\n",
            "Get:11 http://security.ubuntu.com/ubuntu focal-security/main amd64 Packages [2,866 kB]\n",
            "Hit:12 http://ppa.launchpad.net/graphics-drivers/ppa/ubuntu focal InRelease\n",
            "Get:13 http://archive.ubuntu.com/ubuntu focal-updates/multiverse amd64 Packages [32.0 kB]\n",
            "Hit:14 http://ppa.launchpad.net/ubuntugis/ppa/ubuntu focal InRelease\n",
            "Get:15 http://archive.ubuntu.com/ubuntu focal-updates/restricted amd64 Packages [2,677 kB]\n",
            "Get:16 http://security.ubuntu.com/ubuntu focal-security/universe amd64 Packages [1,072 kB]\n",
            "Get:17 http://security.ubuntu.com/ubuntu focal-security/multiverse amd64 Packages [29.3 kB]\n",
            "Get:18 http://security.ubuntu.com/ubuntu focal-security/restricted amd64 Packages [2,536 kB]\n",
            "Get:19 http://archive.ubuntu.com/ubuntu focal-updates/main amd64 Packages [3,347 kB]\n",
            "Get:20 http://archive.ubuntu.com/ubuntu focal-updates/universe amd64 Packages [1,371 kB]\n",
            "Fetched 15.4 MB in 3s (5,564 kB/s)\n",
            "Reading package lists... Done\n",
            "Building dependency tree       \n",
            "Reading state information... Done\n",
            "15 packages can be upgraded. Run 'apt list --upgradable' to see them.\n"
          ]
        }
      ],
      "source": [
        "!sudo apt update\n",
        "!apt-get install openjdk-8-jdk-headless -qq > /dev/null\n",
        "!wget -q https://dlcdn.apache.org/spark/spark-3.3.0/spark-3.3.0-bin-hadoop3.tgz"
      ]
    },
    {
      "cell_type": "code",
      "source": [
        "!tar xf spark-3.3.0-bin-hadoop3.tgz\n",
        "!pip install -q findspark\n",
        "!pip install pyspark"
      ],
      "metadata": {
        "colab": {
          "base_uri": "https://localhost:8080/"
        },
        "id": "lKt1AyYb1I9-",
        "outputId": "26c6fe2b-119e-4cf3-a075-c81f58f8c4a1"
      },
      "execution_count": 2,
      "outputs": [
        {
          "output_type": "stream",
          "name": "stdout",
          "text": [
            "tar: spark-3.3.0-bin-hadoop3.tgz: Cannot open: No such file or directory\n",
            "tar: Error is not recoverable: exiting now\n",
            "Collecting pyspark\n",
            "  Downloading pyspark-3.4.1.tar.gz (310.8 MB)\n",
            "\u001b[2K     \u001b[90m━━━━━━━━━━━━━━━━━━━━━━━━━━━━━━━━━━━━━━━\u001b[0m \u001b[32m310.8/310.8 MB\u001b[0m \u001b[31m4.6 MB/s\u001b[0m eta \u001b[36m0:00:00\u001b[0m\n",
            "\u001b[?25h  Preparing metadata (setup.py) ... \u001b[?25l\u001b[?25hdone\n",
            "Requirement already satisfied: py4j==0.10.9.7 in /usr/local/lib/python3.10/dist-packages (from pyspark) (0.10.9.7)\n",
            "Building wheels for collected packages: pyspark\n",
            "  Building wheel for pyspark (setup.py) ... \u001b[?25l\u001b[?25hdone\n",
            "  Created wheel for pyspark: filename=pyspark-3.4.1-py2.py3-none-any.whl size=311285398 sha256=89578f566057f059b9b72a128f1be94b58e6b4a290f74626868f059fea5ee894\n",
            "  Stored in directory: /root/.cache/pip/wheels/0d/77/a3/ff2f74cc9ab41f8f594dabf0579c2a7c6de920d584206e0834\n",
            "Successfully built pyspark\n",
            "Installing collected packages: pyspark\n",
            "Successfully installed pyspark-3.4.1\n"
          ]
        }
      ]
    },
    {
      "cell_type": "code",
      "source": [
        "import findspark\n",
        "findspark.init()\n",
        "findspark.find()"
      ],
      "metadata": {
        "colab": {
          "base_uri": "https://localhost:8080/",
          "height": 36
        },
        "id": "MzGmGE0a6L_n",
        "outputId": "779f353e-820e-4f41-c693-bc83b3c0bb05"
      },
      "execution_count": 3,
      "outputs": [
        {
          "output_type": "execute_result",
          "data": {
            "text/plain": [
              "'/usr/local/lib/python3.10/dist-packages/pyspark'"
            ],
            "application/vnd.google.colaboratory.intrinsic+json": {
              "type": "string"
            }
          },
          "metadata": {},
          "execution_count": 3
        }
      ]
    },
    {
      "cell_type": "code",
      "source": [
        "from pyspark.sql import DataFrame, SparkSession\n",
        "from typing import List\n",
        "import pyspark.sql.types as T\n",
        "import pyspark.sql.functions as F\n",
        "\n",
        "\n",
        "spark = SparkSession \\\n",
        "       .builder \\\n",
        "       .appName(\"Part-1: Working with SparkSQL\") \\\n",
        "       .getOrCreate()\n",
        "\n",
        "spark"
      ],
      "metadata": {
        "colab": {
          "base_uri": "https://localhost:8080/",
          "height": 219
        },
        "id": "O-BC3kr_6MTc",
        "outputId": "15fd4ddc-86aa-4f3b-f76e-a3eb7ba16933"
      },
      "execution_count": 4,
      "outputs": [
        {
          "output_type": "execute_result",
          "data": {
            "text/plain": [
              "<pyspark.sql.session.SparkSession at 0x79659cebc2b0>"
            ],
            "text/html": [
              "\n",
              "            <div>\n",
              "                <p><b>SparkSession - in-memory</b></p>\n",
              "                \n",
              "        <div>\n",
              "            <p><b>SparkContext</b></p>\n",
              "\n",
              "            <p><a href=\"http://6d8d5149bf17:4040\">Spark UI</a></p>\n",
              "\n",
              "            <dl>\n",
              "              <dt>Version</dt>\n",
              "                <dd><code>v3.4.1</code></dd>\n",
              "              <dt>Master</dt>\n",
              "                <dd><code>local[*]</code></dd>\n",
              "              <dt>AppName</dt>\n",
              "                <dd><code>Part-1: Working with SparkSQL</code></dd>\n",
              "            </dl>\n",
              "        </div>\n",
              "        \n",
              "            </div>\n",
              "        "
            ]
          },
          "metadata": {},
          "execution_count": 4
        }
      ]
    },
    {
      "cell_type": "code",
      "source": [
        "from google.colab import drive\n",
        "drive.mount('/content/drive')"
      ],
      "metadata": {
        "colab": {
          "base_uri": "https://localhost:8080/"
        },
        "id": "-IWEonfT6Ufs",
        "outputId": "17b41f12-45d0-4f44-b3f0-7db37081de30"
      },
      "execution_count": 5,
      "outputs": [
        {
          "output_type": "stream",
          "name": "stdout",
          "text": [
            "Mounted at /content/drive\n"
          ]
        }
      ]
    },
    {
      "cell_type": "markdown",
      "source": [
        "Read the data into a Dataframe."
      ],
      "metadata": {
        "id": "Olbj2HGQ6-mH"
      }
    },
    {
      "cell_type": "code",
      "source": [
        "file_location = \"/content/drive/My Drive/data/iot_devices.json\"\n",
        "file_type = \"json\"\n",
        "\n",
        "# CSV options\n",
        "infer_schema = True\n",
        "first_row_is_header = True\n",
        "delimiter = \",\"\n",
        "\n",
        "# The applied options are for CSV files. For other file types, these will be ignored.\n",
        "iot_df = spark.read.format(file_type) \\\n",
        "  .option(\"inferSchema\", infer_schema) \\\n",
        "  .option(\"header\", first_row_is_header) \\\n",
        "  .option(\"sep\", delimiter) \\\n",
        "  .load(file_location)"
      ],
      "metadata": {
        "id": "O_DOCYB36aGp"
      },
      "execution_count": 6,
      "outputs": []
    },
    {
      "cell_type": "code",
      "source": [
        "iot_df.show(20, False)"
      ],
      "metadata": {
        "colab": {
          "base_uri": "https://localhost:8080/"
        },
        "id": "LJGUkIbr6j3j",
        "outputId": "2edecd13-0cba-4692-bba9-a13cd01e9cb2"
      },
      "execution_count": 7,
      "outputs": [
        {
          "output_type": "stream",
          "name": "stdout",
          "text": [
            "+-------------+---------+----+----+-------------+---------+------------------------+--------+---------------+--------+------+---------+-------+----+-------------+\n",
            "|battery_level|c02_level|cca2|cca3|cn           |device_id|device_name             |humidity|ip             |latitude|lcd   |longitude|scale  |temp|timestamp    |\n",
            "+-------------+---------+----+----+-------------+---------+------------------------+--------+---------------+--------+------+---------+-------+----+-------------+\n",
            "|8            |868      |US  |USA |United States|1        |meter-gauge-1xbYRYcj    |51      |68.161.225.1   |38.0    |green |-97.0    |Celsius|34  |1458444054093|\n",
            "|7            |1473     |NO  |NOR |Norway       |2        |sensor-pad-2n2Pea       |70      |213.161.254.1  |62.47   |red   |6.15     |Celsius|11  |1458444054119|\n",
            "|2            |1556     |IT  |ITA |Italy        |3        |device-mac-36TWSKiT     |44      |88.36.5.1      |42.83   |red   |12.83    |Celsius|19  |1458444054120|\n",
            "|6            |1080     |US  |USA |United States|4        |sensor-pad-4mzWkz       |32      |66.39.173.154  |44.06   |yellow|-121.32  |Celsius|28  |1458444054121|\n",
            "|4            |931      |PH  |PHL |Philippines  |5        |therm-stick-5gimpUrBB   |62      |203.82.41.9    |14.58   |green |120.97   |Celsius|25  |1458444054122|\n",
            "|3            |1210     |US  |USA |United States|6        |sensor-pad-6al7RTAobR   |51      |204.116.105.67 |35.93   |yellow|-85.46   |Celsius|27  |1458444054122|\n",
            "|3            |1129     |CN  |CHN |China        |7        |meter-gauge-7GeDoanM    |26      |220.173.179.1  |22.82   |yellow|108.32   |Celsius|18  |1458444054123|\n",
            "|0            |1536     |JP  |JPN |Japan        |8        |sensor-pad-8xUD6pzsQI   |35      |210.173.177.1  |35.69   |red   |139.69   |Celsius|27  |1458444054123|\n",
            "|3            |807      |JP  |JPN |Japan        |9        |device-mac-9GcjZ2pw     |85      |118.23.68.227  |35.69   |green |139.69   |Celsius|13  |1458444054124|\n",
            "|7            |1470     |US  |USA |United States|10       |sensor-pad-10BsywSYUF   |56      |208.109.163.218|33.61   |red   |-111.89  |Celsius|26  |1458444054125|\n",
            "|3            |1544     |IT  |ITA |Italy        |11       |meter-gauge-11dlMTZty   |85      |88.213.191.34  |42.83   |red   |12.83    |Celsius|16  |1458444054125|\n",
            "|0            |1260     |US  |USA |United States|12       |sensor-pad-12Y2kIm0o    |92      |68.28.91.22    |38.0    |yellow|-97.0    |Celsius|12  |1458444054126|\n",
            "|6            |1007     |IN  |IND |India        |13       |meter-gauge-13GrojanSGBz|92      |59.144.114.250 |28.6    |yellow|77.2     |Celsius|13  |1458444054127|\n",
            "|1            |1346     |NO  |NOR |Norway       |14       |sensor-pad-14QL93sBR0j  |90      |193.156.90.200 |59.95   |yellow|10.75    |Celsius|16  |1458444054127|\n",
            "|9            |1259     |US  |USA |United States|15       |device-mac-15se6mZ      |70      |67.185.72.1    |47.41   |yellow|-122.0   |Celsius|13  |1458444054128|\n",
            "|4            |1425     |US  |USA |United States|16       |sensor-pad-16aXmIJZtdO  |53      |68.85.85.106   |38.0    |red   |-97.0    |Celsius|15  |1458444054128|\n",
            "|0            |1466     |US  |USA |United States|17       |meter-gauge-17zb8Fghhl  |98      |161.188.212.254|39.95   |red   |-75.16   |Celsius|31  |1458444054129|\n",
            "|4            |1096     |CN  |CHN |China        |18       |sensor-pad-18XULN9Xv    |25      |221.3.128.242  |25.04   |yellow|102.72   |Celsius|31  |1458444054130|\n",
            "|9            |1531     |US  |USA |United States|19       |meter-gauge-19eg1BpfCO  |75      |64.124.180.215 |38.0    |red   |-97.0    |Celsius|29  |1458444054130|\n",
            "|7            |1155     |US  |USA |United States|20       |sensor-pad-20gFNfBgqr   |33      |66.153.162.66  |33.94   |yellow|-78.92   |Celsius|10  |1458444054131|\n",
            "+-------------+---------+----+----+-------------+---------+------------------------+--------+---------------+--------+------+---------+-------+----+-------------+\n",
            "only showing top 20 rows\n",
            "\n"
          ]
        }
      ]
    },
    {
      "cell_type": "markdown",
      "source": [
        "Convert the Dataframe into a temporary view called iot."
      ],
      "metadata": {
        "id": "WRfH78DM7Eis"
      }
    },
    {
      "cell_type": "code",
      "source": [
        "iot_df.createOrReplaceTempView('iot')"
      ],
      "metadata": {
        "id": "WgV-FTHK6pOw"
      },
      "execution_count": 8,
      "outputs": []
    },
    {
      "cell_type": "code",
      "source": [
        "spark.sql(\"select * from iot\").show(5)"
      ],
      "metadata": {
        "colab": {
          "base_uri": "https://localhost:8080/"
        },
        "id": "9u6TaCdQ6v82",
        "outputId": "64bc7450-19d4-49aa-9210-9c8ca19dafe4"
      },
      "execution_count": 9,
      "outputs": [
        {
          "output_type": "stream",
          "name": "stdout",
          "text": [
            "+-------------+---------+----+----+-------------+---------+--------------------+--------+-------------+--------+------+---------+-------+----+-------------+\n",
            "|battery_level|c02_level|cca2|cca3|           cn|device_id|         device_name|humidity|           ip|latitude|   lcd|longitude|  scale|temp|    timestamp|\n",
            "+-------------+---------+----+----+-------------+---------+--------------------+--------+-------------+--------+------+---------+-------+----+-------------+\n",
            "|            8|      868|  US| USA|United States|        1|meter-gauge-1xbYRYcj|      51| 68.161.225.1|    38.0| green|    -97.0|Celsius|  34|1458444054093|\n",
            "|            7|     1473|  NO| NOR|       Norway|        2|   sensor-pad-2n2Pea|      70|213.161.254.1|   62.47|   red|     6.15|Celsius|  11|1458444054119|\n",
            "|            2|     1556|  IT| ITA|        Italy|        3| device-mac-36TWSKiT|      44|    88.36.5.1|   42.83|   red|    12.83|Celsius|  19|1458444054120|\n",
            "|            6|     1080|  US| USA|United States|        4|   sensor-pad-4mzWkz|      32|66.39.173.154|   44.06|yellow|  -121.32|Celsius|  28|1458444054121|\n",
            "|            4|      931|  PH| PHL|  Philippines|        5|therm-stick-5gimp...|      62|  203.82.41.9|   14.58| green|   120.97|Celsius|  25|1458444054122|\n",
            "+-------------+---------+----+----+-------------+---------+--------------------+--------+-------------+--------+------+---------+-------+----+-------------+\n",
            "only showing top 5 rows\n",
            "\n"
          ]
        }
      ]
    },
    {
      "cell_type": "code",
      "source": [
        "iot_df.printSchema()"
      ],
      "metadata": {
        "colab": {
          "base_uri": "https://localhost:8080/"
        },
        "id": "tlTHzf766yZS",
        "outputId": "9b485157-a321-497f-a11f-1f68418fa45a"
      },
      "execution_count": 10,
      "outputs": [
        {
          "output_type": "stream",
          "name": "stdout",
          "text": [
            "root\n",
            " |-- battery_level: long (nullable = true)\n",
            " |-- c02_level: long (nullable = true)\n",
            " |-- cca2: string (nullable = true)\n",
            " |-- cca3: string (nullable = true)\n",
            " |-- cn: string (nullable = true)\n",
            " |-- device_id: long (nullable = true)\n",
            " |-- device_name: string (nullable = true)\n",
            " |-- humidity: long (nullable = true)\n",
            " |-- ip: string (nullable = true)\n",
            " |-- latitude: double (nullable = true)\n",
            " |-- lcd: string (nullable = true)\n",
            " |-- longitude: double (nullable = true)\n",
            " |-- scale: string (nullable = true)\n",
            " |-- temp: long (nullable = true)\n",
            " |-- timestamp: long (nullable = true)\n",
            "\n"
          ]
        }
      ]
    },
    {
      "cell_type": "markdown",
      "source": [
        "Count how many devices are there from each country and display the output."
      ],
      "metadata": {
        "id": "Ip-ISGh07Jtu"
      }
    },
    {
      "cell_type": "code",
      "source": [
        "spark.sql(\"\"\"\n",
        "SELECT cca3 AS Country_name,\n",
        "       COUNT(DISTINCT device_id) AS Number_of_devices\n",
        "FROM iot\n",
        "GROUP BY cca3\n",
        "ORDER BY Number_of_devices DESC\n",
        "\"\"\").show()\n"
      ],
      "metadata": {
        "colab": {
          "base_uri": "https://localhost:8080/"
        },
        "id": "cvUQjFCS663E",
        "outputId": "ac374912-7f14-4ae1-fec1-c4557ef87f0d"
      },
      "execution_count": 24,
      "outputs": [
        {
          "output_type": "stream",
          "name": "stdout",
          "text": [
            "+------------+-----------------+\n",
            "|Country_name|Number_of_devices|\n",
            "+------------+-----------------+\n",
            "|         USA|            70405|\n",
            "|         CHN|            14455|\n",
            "|         JPN|            12100|\n",
            "|         KOR|            11879|\n",
            "|         DEU|             7942|\n",
            "|         GBR|             6486|\n",
            "|         CAN|             6041|\n",
            "|         RUS|             5989|\n",
            "|         FRA|             5305|\n",
            "|         BRA|             3224|\n",
            "|         AUS|             3119|\n",
            "|         ITA|             2915|\n",
            "|         SWE|             2880|\n",
            "|         POL|             2744|\n",
            "|         NLD|             2488|\n",
            "|         ESP|             2310|\n",
            "|         TWN|             2128|\n",
            "|         IND|             1867|\n",
            "|         CZE|             1507|\n",
            "|         NOR|             1487|\n",
            "+------------+-----------------+\n",
            "only showing top 20 rows\n",
            "\n"
          ]
        }
      ]
    },
    {
      "cell_type": "markdown",
      "source": [
        " Display all the countries whose carbon dioxide level is more than 1400. Sort the output in descending order."
      ],
      "metadata": {
        "id": "pLwgzCbW7cm3"
      }
    },
    {
      "cell_type": "code",
      "source": [
        "spark.sql(\"\"\"\n",
        "SELECT Cca2 AS Country_Code,\n",
        "       cca3 AS Country_name,\n",
        "       CAST(SUM(c02_level) AS INT) AS CO2_level\n",
        "FROM iot\n",
        "WHERE c02_level > 1400\n",
        "GROUP BY Cca2, cca3\n",
        "ORDER BY CO2_level DESC\n",
        "\"\"\").show()\n"
      ],
      "metadata": {
        "colab": {
          "base_uri": "https://localhost:8080/"
        },
        "id": "0sg3Av347V1A",
        "outputId": "90051704-91a0-4f56-e4b0-e95fa918b6cf"
      },
      "execution_count": 23,
      "outputs": [
        {
          "output_type": "stream",
          "name": "stdout",
          "text": [
            "+------------+------------+---------+\n",
            "|Country_Code|Country_name|CO2_level|\n",
            "+------------+------------+---------+\n",
            "|          US|         USA| 26242891|\n",
            "|          CN|         CHN|  5424312|\n",
            "|          KR|         KOR|  4415118|\n",
            "|          JP|         JPN|  4399107|\n",
            "|          DE|         DEU|  2950796|\n",
            "|          GB|         GBR|  2488574|\n",
            "|          CA|         CAN|  2343270|\n",
            "|          RU|         RUS|  2262936|\n",
            "|          FR|         FRA|  2030583|\n",
            "|          BR|         BRA|  1284892|\n",
            "|          AU|         AUS|  1153899|\n",
            "|          SE|         SWE|  1086146|\n",
            "|          IT|         ITA|  1070505|\n",
            "|          PL|         POL|   995721|\n",
            "|          NL|         NLD|   970297|\n",
            "|          ES|         ESP|   878143|\n",
            "|          TW|         TWN|   813253|\n",
            "|          IN|         IND|   666101|\n",
            "|          NO|         NOR|   598248|\n",
            "|          UA|         UKR|   559605|\n",
            "+------------+------------+---------+\n",
            "only showing top 20 rows\n",
            "\n"
          ]
        }
      ]
    },
    {
      "cell_type": "markdown",
      "source": [
        " Select all countries' devices with high-levels of C02 and group by cca3 and order by device_ids (Hint: For high CO2 level, the LCD status will be RED)."
      ],
      "metadata": {
        "id": "r0kcuJVk9aLI"
      }
    },
    {
      "cell_type": "code",
      "source": [
        "spark.sql(\"select cca3,cn,device_id from iot where lcd = 'red' group by cca3,cn,device_id order by device_id \").show()"
      ],
      "metadata": {
        "colab": {
          "base_uri": "https://localhost:8080/"
        },
        "id": "ITT75cOo9ao5",
        "outputId": "9680b099-c2fe-4793-cb17-3d1c78ce2781"
      },
      "execution_count": 12,
      "outputs": [
        {
          "output_type": "stream",
          "name": "stdout",
          "text": [
            "+----+-----------------+---------+\n",
            "|cca3|               cn|device_id|\n",
            "+----+-----------------+---------+\n",
            "| NOR|           Norway|        2|\n",
            "| ITA|            Italy|        3|\n",
            "| JPN|            Japan|        8|\n",
            "| USA|    United States|       10|\n",
            "| ITA|            Italy|       11|\n",
            "| USA|    United States|       16|\n",
            "| USA|    United States|       17|\n",
            "| USA|    United States|       19|\n",
            "| JPN|            Japan|       22|\n",
            "| CAN|           Canada|       24|\n",
            "| KOR|Republic of Korea|       27|\n",
            "| KOR|Republic of Korea|       28|\n",
            "| UKR|          Ukraine|       47|\n",
            "| SWE|           Sweden|       53|\n",
            "| USA|    United States|       54|\n",
            "| USA|    United States|       57|\n",
            "| USA|    United States|       64|\n",
            "| CZE|   Czech Republic|       66|\n",
            "| IND|            India|       77|\n",
            "| KOR|Republic of Korea|       78|\n",
            "+----+-----------------+---------+\n",
            "only showing top 20 rows\n",
            "\n"
          ]
        }
      ]
    },
    {
      "cell_type": "markdown",
      "source": [
        "Find out all devices in countries whose batteries need replacements."
      ],
      "metadata": {
        "id": "e49kXluy9tQ-"
      }
    },
    {
      "cell_type": "code",
      "source": [
        "# Assumption - devices with battery level < 3 would need replacement\n",
        "spark.sql(\"select cca3, device_id, battery_level from iot where battery_level < 3  order by battery_level \").show()"
      ],
      "metadata": {
        "colab": {
          "base_uri": "https://localhost:8080/"
        },
        "id": "L7qITXQ29cd9",
        "outputId": "b0a27df9-2750-4996-cd5e-e2446dd3d874"
      },
      "execution_count": 14,
      "outputs": [
        {
          "output_type": "stream",
          "name": "stdout",
          "text": [
            "+----+---------+-------------+\n",
            "|cca3|device_id|battery_level|\n",
            "+----+---------+-------------+\n",
            "| JPN|   106121|            0|\n",
            "| ZAF|      180|            0|\n",
            "| DEU|   106203|            0|\n",
            "| FRA|      345|            0|\n",
            "| AUS|   106061|            0|\n",
            "| USA|      185|            0|\n",
            "| RUS|   106125|            0|\n",
            "| USA|      179|            0|\n",
            "| AUS|   106067|            0|\n",
            "| USA|      195|            0|\n",
            "| VNM|   106139|            0|\n",
            "| USA|       17|            0|\n",
            "| USA|   106076|            0|\n",
            "| FRA|      196|            0|\n",
            "| CAN|   106152|            0|\n",
            "| CAN|       80|            0|\n",
            "| USA|   106088|            0|\n",
            "| USA|      209|            0|\n",
            "| FRA|   106162|            0|\n",
            "| USA|       98|            0|\n",
            "+----+---------+-------------+\n",
            "only showing top 20 rows\n",
            "\n"
          ]
        }
      ]
    }
  ]
}