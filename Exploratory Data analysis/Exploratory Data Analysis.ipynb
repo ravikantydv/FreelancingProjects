{
 "cells": [
  {
   "cell_type": "markdown",
   "id": "d302708b",
   "metadata": {},
   "source": [
    "## Assignment 2"
   ]
  },
  {
   "cell_type": "markdown",
   "id": "8a8c6475",
   "metadata": {},
   "source": [
    "#### "
   ]
  },
  {
   "cell_type": "markdown",
   "id": "21cfe89c",
   "metadata": {},
   "source": [
    "1. Exploratory Data Analysis (30 points)\n",
    "\n",
    "a) Consider the following numeric variables in the dataset: Vaccin, HndWshQual,\n",
    "HndWshFreq, SociDist, NoFaceContact, RespEttiqu, PersnDist, and HandSanit.\n",
    "Summarize the statistics of these variables into count, mean, standard deviation,\n",
    "minimum, 25% percentile, 50% percentile, 75% percentile, and maximum."
   ]
  },
  {
   "cell_type": "code",
   "execution_count": 1,
   "id": "05495344",
   "metadata": {},
   "outputs": [],
   "source": [
    "# Importing the required libraries\n",
    "\n",
    "import pandas as pd\n",
    "import numpy as np\n",
    "import seaborn as sns\n",
    "import matplotlib.pyplot as plt\n",
    "import warnings \n",
    "warnings.filterwarnings('ignore')"
   ]
  },
  {
   "cell_type": "code",
   "execution_count": 2,
   "id": "45d442e9",
   "metadata": {},
   "outputs": [
    {
     "data": {
      "text/html": [
       "<div>\n",
       "<style scoped>\n",
       "    .dataframe tbody tr th:only-of-type {\n",
       "        vertical-align: middle;\n",
       "    }\n",
       "\n",
       "    .dataframe tbody tr th {\n",
       "        vertical-align: top;\n",
       "    }\n",
       "\n",
       "    .dataframe thead th {\n",
       "        text-align: right;\n",
       "    }\n",
       "</style>\n",
       "<table border=\"1\" class=\"dataframe\">\n",
       "  <thead>\n",
       "    <tr style=\"text-align: right;\">\n",
       "      <th></th>\n",
       "      <th>Student</th>\n",
       "      <th>Vaccin</th>\n",
       "      <th>HndWshQual</th>\n",
       "      <th>HndWshFreq</th>\n",
       "      <th>SociDist</th>\n",
       "      <th>NoFaceContact</th>\n",
       "      <th>RespEttiqu</th>\n",
       "      <th>PersnDist</th>\n",
       "      <th>HandSanit</th>\n",
       "      <th>Risk</th>\n",
       "      <th>Complications</th>\n",
       "      <th>Barriers</th>\n",
       "      <th>Inefficacy</th>\n",
       "      <th>KnowlTrans</th>\n",
       "      <th>KnowlMgmt</th>\n",
       "      <th>Sick</th>\n",
       "      <th>Flu</th>\n",
       "      <th>Female</th>\n",
       "    </tr>\n",
       "  </thead>\n",
       "  <tbody>\n",
       "    <tr>\n",
       "      <th>0</th>\n",
       "      <td>1</td>\n",
       "      <td>3</td>\n",
       "      <td>4</td>\n",
       "      <td>4</td>\n",
       "      <td>2</td>\n",
       "      <td>1</td>\n",
       "      <td>5</td>\n",
       "      <td>1</td>\n",
       "      <td>1</td>\n",
       "      <td>-0.770</td>\n",
       "      <td>-1.453</td>\n",
       "      <td>0.000</td>\n",
       "      <td>0.929</td>\n",
       "      <td>-0.554</td>\n",
       "      <td>0.000</td>\n",
       "      <td>0.0</td>\n",
       "      <td>0.0</td>\n",
       "      <td>1.0</td>\n",
       "    </tr>\n",
       "    <tr>\n",
       "      <th>1</th>\n",
       "      <td>2</td>\n",
       "      <td>2</td>\n",
       "      <td>4</td>\n",
       "      <td>4</td>\n",
       "      <td>5</td>\n",
       "      <td>2</td>\n",
       "      <td>5</td>\n",
       "      <td>4</td>\n",
       "      <td>4</td>\n",
       "      <td>-0.345</td>\n",
       "      <td>0.000</td>\n",
       "      <td>-0.489</td>\n",
       "      <td>0.149</td>\n",
       "      <td>-0.554</td>\n",
       "      <td>1.482</td>\n",
       "      <td>1.0</td>\n",
       "      <td>0.0</td>\n",
       "      <td>0.0</td>\n",
       "    </tr>\n",
       "    <tr>\n",
       "      <th>2</th>\n",
       "      <td>3</td>\n",
       "      <td>3</td>\n",
       "      <td>2</td>\n",
       "      <td>2</td>\n",
       "      <td>2</td>\n",
       "      <td>3</td>\n",
       "      <td>2</td>\n",
       "      <td>2</td>\n",
       "      <td>1</td>\n",
       "      <td>-0.406</td>\n",
       "      <td>-0.575</td>\n",
       "      <td>-0.234</td>\n",
       "      <td>0.693</td>\n",
       "      <td>-0.182</td>\n",
       "      <td>-1.482</td>\n",
       "      <td>0.0</td>\n",
       "      <td>0.0</td>\n",
       "      <td>0.0</td>\n",
       "    </tr>\n",
       "    <tr>\n",
       "      <th>3</th>\n",
       "      <td>4</td>\n",
       "      <td>3</td>\n",
       "      <td>3</td>\n",
       "      <td>2</td>\n",
       "      <td>2</td>\n",
       "      <td>2</td>\n",
       "      <td>5</td>\n",
       "      <td>3</td>\n",
       "      <td>1</td>\n",
       "      <td>-0.575</td>\n",
       "      <td>-0.197</td>\n",
       "      <td>-0.429</td>\n",
       "      <td>0.000</td>\n",
       "      <td>0.554</td>\n",
       "      <td>0.000</td>\n",
       "      <td>2.0</td>\n",
       "      <td>1.0</td>\n",
       "      <td>NaN</td>\n",
       "    </tr>\n",
       "    <tr>\n",
       "      <th>4</th>\n",
       "      <td>5</td>\n",
       "      <td>2</td>\n",
       "      <td>5</td>\n",
       "      <td>3</td>\n",
       "      <td>3</td>\n",
       "      <td>2</td>\n",
       "      <td>5</td>\n",
       "      <td>5</td>\n",
       "      <td>3</td>\n",
       "      <td>0.000</td>\n",
       "      <td>-0.770</td>\n",
       "      <td>0.097</td>\n",
       "      <td>0.546</td>\n",
       "      <td>0.554</td>\n",
       "      <td>0.684</td>\n",
       "      <td>1.0</td>\n",
       "      <td>0.0</td>\n",
       "      <td>0.0</td>\n",
       "    </tr>\n",
       "  </tbody>\n",
       "</table>\n",
       "</div>"
      ],
      "text/plain": [
       "   Student  Vaccin  HndWshQual  HndWshFreq  SociDist  NoFaceContact  \\\n",
       "0        1       3           4           4         2              1   \n",
       "1        2       2           4           4         5              2   \n",
       "2        3       3           2           2         2              3   \n",
       "3        4       3           3           2         2              2   \n",
       "4        5       2           5           3         3              2   \n",
       "\n",
       "   RespEttiqu  PersnDist  HandSanit   Risk  Complications  Barriers  \\\n",
       "0           5          1          1 -0.770         -1.453     0.000   \n",
       "1           5          4          4 -0.345          0.000    -0.489   \n",
       "2           2          2          1 -0.406         -0.575    -0.234   \n",
       "3           5          3          1 -0.575         -0.197    -0.429   \n",
       "4           5          5          3  0.000         -0.770     0.097   \n",
       "\n",
       "   Inefficacy  KnowlTrans  KnowlMgmt  Sick  Flu  Female  \n",
       "0       0.929      -0.554      0.000   0.0  0.0     1.0  \n",
       "1       0.149      -0.554      1.482   1.0  0.0     0.0  \n",
       "2       0.693      -0.182     -1.482   0.0  0.0     0.0  \n",
       "3       0.000       0.554      0.000   2.0  1.0     NaN  \n",
       "4       0.546       0.554      0.684   1.0  0.0     0.0  "
      ]
     },
     "execution_count": 2,
     "metadata": {},
     "output_type": "execute_result"
    }
   ],
   "source": [
    "# load the flu dataset\n",
    "df = pd.read_csv('flue.csv')\n",
    "\n",
    "# selecting first five rows \n",
    "df.head()"
   ]
  },
  {
   "cell_type": "code",
   "execution_count": 3,
   "id": "21b9d2e5",
   "metadata": {},
   "outputs": [
    {
     "data": {
      "text/plain": [
       "(410, 18)"
      ]
     },
     "execution_count": 3,
     "metadata": {},
     "output_type": "execute_result"
    }
   ],
   "source": [
    "df.shape # Checking shape of the data"
   ]
  },
  {
   "cell_type": "code",
   "execution_count": 4,
   "id": "3a17b7f2",
   "metadata": {},
   "outputs": [
    {
     "data": {
      "text/plain": [
       "Student            int64\n",
       "Vaccin             int64\n",
       "HndWshQual         int64\n",
       "HndWshFreq         int64\n",
       "SociDist           int64\n",
       "NoFaceContact      int64\n",
       "RespEttiqu         int64\n",
       "PersnDist          int64\n",
       "HandSanit          int64\n",
       "Risk             float64\n",
       "Complications    float64\n",
       "Barriers         float64\n",
       "Inefficacy       float64\n",
       "KnowlTrans       float64\n",
       "KnowlMgmt        float64\n",
       "Sick             float64\n",
       "Flu              float64\n",
       "Female           float64\n",
       "dtype: object"
      ]
     },
     "execution_count": 4,
     "metadata": {},
     "output_type": "execute_result"
    }
   ],
   "source": [
    "df.dtypes # checking data type "
   ]
  },
  {
   "cell_type": "code",
   "execution_count": 5,
   "id": "f0a29ec8",
   "metadata": {},
   "outputs": [
    {
     "data": {
      "text/plain": [
       "Student           0\n",
       "Vaccin            0\n",
       "HndWshQual        0\n",
       "HndWshFreq        0\n",
       "SociDist          0\n",
       "NoFaceContact     0\n",
       "RespEttiqu        0\n",
       "PersnDist         0\n",
       "HandSanit         0\n",
       "Risk              0\n",
       "Complications     0\n",
       "Barriers          0\n",
       "Inefficacy        0\n",
       "KnowlTrans        1\n",
       "KnowlMgmt         0\n",
       "Sick             36\n",
       "Flu              36\n",
       "Female           35\n",
       "dtype: int64"
      ]
     },
     "execution_count": 5,
     "metadata": {},
     "output_type": "execute_result"
    }
   ],
   "source": [
    "# checking missing/null values\n",
    "\n",
    "df.isnull().sum()"
   ]
  },
  {
   "cell_type": "markdown",
   "id": "f697c491",
   "metadata": {},
   "source": [
    "#### Observation :\n",
    "\n",
    "We have the null/values in the dataset in the columns (sick, flu, knowlTrans, Female), we will fill the null values by doing mean of them."
   ]
  },
  {
   "cell_type": "code",
   "execution_count": 6,
   "id": "11ba6385",
   "metadata": {},
   "outputs": [],
   "source": [
    "# replace missing values with the mean of the column\n",
    "df.fillna(df.mean(), inplace=True)"
   ]
  },
  {
   "cell_type": "code",
   "execution_count": 7,
   "id": "90f08ea6",
   "metadata": {},
   "outputs": [
    {
     "data": {
      "text/plain": [
       "Student          0\n",
       "Vaccin           0\n",
       "HndWshQual       0\n",
       "HndWshFreq       0\n",
       "SociDist         0\n",
       "NoFaceContact    0\n",
       "RespEttiqu       0\n",
       "PersnDist        0\n",
       "HandSanit        0\n",
       "Risk             0\n",
       "Complications    0\n",
       "Barriers         0\n",
       "Inefficacy       0\n",
       "KnowlTrans       0\n",
       "KnowlMgmt        0\n",
       "Sick             0\n",
       "Flu              0\n",
       "Female           0\n",
       "dtype: int64"
      ]
     },
     "execution_count": 7,
     "metadata": {},
     "output_type": "execute_result"
    }
   ],
   "source": [
    "df.isnull().sum()"
   ]
  },
  {
   "cell_type": "markdown",
   "id": "0e6bd4eb",
   "metadata": {},
   "source": [
    "#### Observation:\n",
    "Null values treated ..."
   ]
  },
  {
   "cell_type": "code",
   "execution_count": 8,
   "id": "1a5ecd06",
   "metadata": {},
   "outputs": [
    {
     "data": {
      "text/html": [
       "<div>\n",
       "<style scoped>\n",
       "    .dataframe tbody tr th:only-of-type {\n",
       "        vertical-align: middle;\n",
       "    }\n",
       "\n",
       "    .dataframe tbody tr th {\n",
       "        vertical-align: top;\n",
       "    }\n",
       "\n",
       "    .dataframe thead th {\n",
       "        text-align: right;\n",
       "    }\n",
       "</style>\n",
       "<table border=\"1\" class=\"dataframe\">\n",
       "  <thead>\n",
       "    <tr style=\"text-align: right;\">\n",
       "      <th></th>\n",
       "      <th>Student</th>\n",
       "      <th>Vaccin</th>\n",
       "      <th>HndWshQual</th>\n",
       "      <th>HndWshFreq</th>\n",
       "      <th>SociDist</th>\n",
       "      <th>NoFaceContact</th>\n",
       "      <th>RespEttiqu</th>\n",
       "      <th>PersnDist</th>\n",
       "      <th>HandSanit</th>\n",
       "      <th>Risk</th>\n",
       "      <th>Complications</th>\n",
       "      <th>Barriers</th>\n",
       "      <th>Inefficacy</th>\n",
       "      <th>KnowlTrans</th>\n",
       "      <th>KnowlMgmt</th>\n",
       "      <th>Sick</th>\n",
       "      <th>Flu</th>\n",
       "      <th>Female</th>\n",
       "    </tr>\n",
       "  </thead>\n",
       "  <tbody>\n",
       "    <tr>\n",
       "      <th>0</th>\n",
       "      <td>1</td>\n",
       "      <td>3</td>\n",
       "      <td>4</td>\n",
       "      <td>4</td>\n",
       "      <td>2</td>\n",
       "      <td>1</td>\n",
       "      <td>5</td>\n",
       "      <td>1</td>\n",
       "      <td>1</td>\n",
       "      <td>-0.770</td>\n",
       "      <td>-1.453</td>\n",
       "      <td>0.000</td>\n",
       "      <td>0.929</td>\n",
       "      <td>-0.554</td>\n",
       "      <td>0.000</td>\n",
       "      <td>0.0</td>\n",
       "      <td>0.0</td>\n",
       "      <td>1.000000</td>\n",
       "    </tr>\n",
       "    <tr>\n",
       "      <th>1</th>\n",
       "      <td>2</td>\n",
       "      <td>2</td>\n",
       "      <td>4</td>\n",
       "      <td>4</td>\n",
       "      <td>5</td>\n",
       "      <td>2</td>\n",
       "      <td>5</td>\n",
       "      <td>4</td>\n",
       "      <td>4</td>\n",
       "      <td>-0.345</td>\n",
       "      <td>0.000</td>\n",
       "      <td>-0.489</td>\n",
       "      <td>0.149</td>\n",
       "      <td>-0.554</td>\n",
       "      <td>1.482</td>\n",
       "      <td>1.0</td>\n",
       "      <td>0.0</td>\n",
       "      <td>0.000000</td>\n",
       "    </tr>\n",
       "    <tr>\n",
       "      <th>2</th>\n",
       "      <td>3</td>\n",
       "      <td>3</td>\n",
       "      <td>2</td>\n",
       "      <td>2</td>\n",
       "      <td>2</td>\n",
       "      <td>3</td>\n",
       "      <td>2</td>\n",
       "      <td>2</td>\n",
       "      <td>1</td>\n",
       "      <td>-0.406</td>\n",
       "      <td>-0.575</td>\n",
       "      <td>-0.234</td>\n",
       "      <td>0.693</td>\n",
       "      <td>-0.182</td>\n",
       "      <td>-1.482</td>\n",
       "      <td>0.0</td>\n",
       "      <td>0.0</td>\n",
       "      <td>0.000000</td>\n",
       "    </tr>\n",
       "    <tr>\n",
       "      <th>3</th>\n",
       "      <td>4</td>\n",
       "      <td>3</td>\n",
       "      <td>3</td>\n",
       "      <td>2</td>\n",
       "      <td>2</td>\n",
       "      <td>2</td>\n",
       "      <td>5</td>\n",
       "      <td>3</td>\n",
       "      <td>1</td>\n",
       "      <td>-0.575</td>\n",
       "      <td>-0.197</td>\n",
       "      <td>-0.429</td>\n",
       "      <td>0.000</td>\n",
       "      <td>0.554</td>\n",
       "      <td>0.000</td>\n",
       "      <td>2.0</td>\n",
       "      <td>1.0</td>\n",
       "      <td>0.549333</td>\n",
       "    </tr>\n",
       "    <tr>\n",
       "      <th>4</th>\n",
       "      <td>5</td>\n",
       "      <td>2</td>\n",
       "      <td>5</td>\n",
       "      <td>3</td>\n",
       "      <td>3</td>\n",
       "      <td>2</td>\n",
       "      <td>5</td>\n",
       "      <td>5</td>\n",
       "      <td>3</td>\n",
       "      <td>0.000</td>\n",
       "      <td>-0.770</td>\n",
       "      <td>0.097</td>\n",
       "      <td>0.546</td>\n",
       "      <td>0.554</td>\n",
       "      <td>0.684</td>\n",
       "      <td>1.0</td>\n",
       "      <td>0.0</td>\n",
       "      <td>0.000000</td>\n",
       "    </tr>\n",
       "  </tbody>\n",
       "</table>\n",
       "</div>"
      ],
      "text/plain": [
       "   Student  Vaccin  HndWshQual  HndWshFreq  SociDist  NoFaceContact  \\\n",
       "0        1       3           4           4         2              1   \n",
       "1        2       2           4           4         5              2   \n",
       "2        3       3           2           2         2              3   \n",
       "3        4       3           3           2         2              2   \n",
       "4        5       2           5           3         3              2   \n",
       "\n",
       "   RespEttiqu  PersnDist  HandSanit   Risk  Complications  Barriers  \\\n",
       "0           5          1          1 -0.770         -1.453     0.000   \n",
       "1           5          4          4 -0.345          0.000    -0.489   \n",
       "2           2          2          1 -0.406         -0.575    -0.234   \n",
       "3           5          3          1 -0.575         -0.197    -0.429   \n",
       "4           5          5          3  0.000         -0.770     0.097   \n",
       "\n",
       "   Inefficacy  KnowlTrans  KnowlMgmt  Sick  Flu    Female  \n",
       "0       0.929      -0.554      0.000   0.0  0.0  1.000000  \n",
       "1       0.149      -0.554      1.482   1.0  0.0  0.000000  \n",
       "2       0.693      -0.182     -1.482   0.0  0.0  0.000000  \n",
       "3       0.000       0.554      0.000   2.0  1.0  0.549333  \n",
       "4       0.546       0.554      0.684   1.0  0.0  0.000000  "
      ]
     },
     "execution_count": 8,
     "metadata": {},
     "output_type": "execute_result"
    }
   ],
   "source": [
    "df.head()"
   ]
  },
  {
   "cell_type": "code",
   "execution_count": 9,
   "id": "be1bc061",
   "metadata": {},
   "outputs": [],
   "source": [
    "# select the numeric variables\n",
    "vars = ['Vaccin', 'HndWshQual', 'HndWshFreq', 'SociDist', \n",
    "        'NoFaceContact', 'RespEttiqu', 'PersnDist', 'HandSanit']"
   ]
  },
  {
   "cell_type": "code",
   "execution_count": 10,
   "id": "524b8a1b",
   "metadata": {},
   "outputs": [],
   "source": [
    "numeric_df = df[vars]"
   ]
  },
  {
   "cell_type": "code",
   "execution_count": 11,
   "id": "f91e6ab0",
   "metadata": {},
   "outputs": [
    {
     "name": "stdout",
     "output_type": "stream",
     "text": [
      "           Vaccin  HndWshQual  HndWshFreq    SociDist  NoFaceContact  \\\n",
      "count  410.000000  410.000000  410.000000  410.000000     410.000000   \n",
      "mean     3.370732    3.885366    3.226829    2.909756       2.456098   \n",
      "std      1.366423    1.036748    1.155305    1.176025       1.246717   \n",
      "min      1.000000    1.000000    1.000000    1.000000       1.000000   \n",
      "25%      2.000000    3.000000    2.000000    2.000000       2.000000   \n",
      "50%      3.000000    4.000000    3.000000    3.000000       2.000000   \n",
      "75%      5.000000    5.000000    4.000000    3.000000       3.000000   \n",
      "max      9.000000    5.000000    5.000000    5.000000       9.000000   \n",
      "\n",
      "       RespEttiqu   PersnDist   HandSanit  \n",
      "count  410.000000  410.000000  410.000000  \n",
      "mean     4.102439    3.412195    2.785366  \n",
      "std      1.250621    1.129012    1.583157  \n",
      "min      1.000000    1.000000    1.000000  \n",
      "25%      3.000000    3.000000    1.000000  \n",
      "50%      5.000000    3.000000    3.000000  \n",
      "75%      5.000000    4.000000    4.000000  \n",
      "max      9.000000    9.000000    5.000000  \n"
     ]
    }
   ],
   "source": [
    "# calculate summary statistics\n",
    "summary_stats = numeric_df.describe(percentiles=[0.25, 0.5, 0.75])\n",
    "\n",
    "# print the summary statistics\n",
    "print(summary_stats)"
   ]
  },
  {
   "cell_type": "markdown",
   "id": "7b25855b",
   "metadata": {},
   "source": [
    "b) Is there a way to encode female variable as a categorical/string data type? If so, how would you do that? Similarly, explain how would you encode the variable sick and flu\n",
    "from numeric type to categorical type?\n",
    "\n",
    "Description of Female, Sick and Flu variables:\n",
    "\n",
    "    • For Female (1 = yes; 0 = no)\n",
    "\n",
    "    • Whether or not the person has been sick in the past year (0 = not; 1 = cold-likesymptoms; 2 = flu-like symptoms)\n",
    "    \n",
    "    • Whether or not the person has had a flu-like illness in the past year (0 = not; 1 = flu-like symptoms)"
   ]
  },
  {
   "cell_type": "code",
   "execution_count": 12,
   "id": "498ddb9d",
   "metadata": {},
   "outputs": [],
   "source": [
    "# Create categorical variables for gender.\n",
    "\n",
    "df[\"gender\"] = df[\"Female\"].replace({1: \"Female\", 0: \"Male\"})"
   ]
  },
  {
   "cell_type": "code",
   "execution_count": 13,
   "id": "64fceaa6",
   "metadata": {},
   "outputs": [],
   "source": [
    "# Create categorical variables for sick.\n",
    "\n",
    "df[\"sick\"] = df[\"Sick\"].replace({0: \"Not sick\", 1: \"Cold-like symptoms\", 2: \"Flu-like symptoms\"})"
   ]
  },
  {
   "cell_type": "code",
   "execution_count": 14,
   "id": "d21e42ef",
   "metadata": {},
   "outputs": [],
   "source": [
    "# Create categorical variables for flu.\n",
    "\n",
    "df[\"flu\"] = df[\"Flu\"].replace({0: \"Not had flu-like illness\", 1: \"Had flu-like illness\"})"
   ]
  },
  {
   "cell_type": "code",
   "execution_count": 15,
   "id": "1999be6f",
   "metadata": {},
   "outputs": [],
   "source": [
    "# df.head() "
   ]
  },
  {
   "cell_type": "markdown",
   "id": "988aa2bc",
   "metadata": {},
   "source": [
    "c) Consider the above converted categorical variables in the dataset: gender, sick and flu.\n",
    "    \n",
    "Summarize the statistics of these variables into count, unique value, top value, and frequency of top value."
   ]
  },
  {
   "cell_type": "code",
   "execution_count": 16,
   "id": "b0c65192",
   "metadata": {},
   "outputs": [
    {
     "name": "stdout",
     "output_type": "stream",
     "text": [
      "        gender                sick                       flu\n",
      "count      410                 410                       410\n",
      "unique       3                   4                         3\n",
      "top     Female  Cold-like symptoms  Not had flu-like illness\n",
      "freq       206                 213                       296\n"
     ]
    }
   ],
   "source": [
    "# Use the pandas describe() function to summarize the statistics\n",
    "print(df[[\"gender\", \"sick\", \"flu\"]].describe())"
   ]
  },
  {
   "cell_type": "markdown",
   "id": "9cb7f3a5",
   "metadata": {},
   "source": [
    "d) Do you think there is any redundant feature present in the dataset. If so, explain how\n",
    "removing it won't impact the analysis. Also, based on the experiments so far, were\n",
    "there any interesting observations for the variables?"
   ]
  },
  {
   "cell_type": "code",
   "execution_count": 17,
   "id": "0f42a4b8",
   "metadata": {},
   "outputs": [],
   "source": [
    "# calculate the correlation matrix\n",
    "corr_matrix = df.corr().abs()"
   ]
  },
  {
   "cell_type": "code",
   "execution_count": 18,
   "id": "231f0cc9",
   "metadata": {},
   "outputs": [],
   "source": [
    "# create a boolean mask for highly correlated features\n",
    "mask = np.triu(np.ones_like(corr_matrix, dtype=bool))\n",
    "high_corr = corr_matrix.mask(mask).stack().sort_values(ascending=False)"
   ]
  },
  {
   "cell_type": "code",
   "execution_count": 19,
   "id": "35e504e4",
   "metadata": {},
   "outputs": [],
   "source": [
    "# identify the highly correlated features\n",
    "to_drop = []\n",
    "for pair, value in high_corr.iteritems():\n",
    "    feature1, feature2 = pair\n",
    "    if value > 0.8 and feature1 not in to_drop and feature2 not in to_drop:\n",
    "        to_drop.append(feature2)"
   ]
  },
  {
   "cell_type": "code",
   "execution_count": 20,
   "id": "4ae2a082",
   "metadata": {},
   "outputs": [],
   "source": [
    "# drop the highly correlated features\n",
    "df = df.drop(to_drop, axis=1)"
   ]
  },
  {
   "cell_type": "markdown",
   "id": "d9261d12",
   "metadata": {},
   "source": [
    "### Inferences\n",
    "\n",
    "Based on the analysis conducted on the flu dataset, there does not seem to be any redundant feature present in the dataset. der feature selection techniques to ensure that the selected features are indeed relevant and not redundant.\n",
    "Regarding interesting observations, some notable findings include:\n",
    "\n",
    "A majority of the participants reported getting vaccinated for the flu in the past year.\n",
    "The handwashing frequency and quality were generally high among the participants.\n",
    "Social distancing and avoiding face-to-face contact were also reported to be common practices.\n",
    "A significant proportion of the participants reported experiencing cold or flu-like symptoms in the past year.\n",
    "The use of hand sanitizers was relatively low among the participants.\n",
    "Gender did not seem to have a significant impact on the likelihood of getting sick or vaccinated."
   ]
  },
  {
   "cell_type": "markdown",
   "id": "4c140a33",
   "metadata": {},
   "source": [
    "e) What is the correlation between SociDist and PersnDist? Does this imply that people who\n",
    "maintain social distancing also tend to maintain personal distance? \n",
    "\n",
    "Note: Social distancing (staying away from sick people) and Personal distancing (staying\n",
    "\n",
    "home when sick)."
   ]
  },
  {
   "cell_type": "code",
   "execution_count": 21,
   "id": "33a9fc4d",
   "metadata": {},
   "outputs": [
    {
     "name": "stdout",
     "output_type": "stream",
     "text": [
      "           SociDist  PersnDist\n",
      "SociDist   1.000000   0.134889\n",
      "PersnDist  0.134889   1.000000\n"
     ]
    }
   ],
   "source": [
    "# Calculate the correlation between \"SociDist\" and \"PersnDist\" variables\n",
    "corr = df[[\"SociDist\", \"PersnDist\"]].corr()\n",
    "\n",
    "# Print the correlation matrix\n",
    "print(corr)\n"
   ]
  },
  {
   "cell_type": "markdown",
   "id": "3555ba0e",
   "metadata": {},
   "source": [
    "The correlation matrix between \"SociDist\" and \"PersnDist\" variables shows that they have a positive correlation of 0.134889.\n",
    "\n",
    "This value is low, indicating that there is only a weak relationship between the two variables. Therefore, we cannot conclude that there is a strong association between maintaining social distancing and maintaining personal distance.\n",
    "\n",
    "However, it is still reasonable to suggest that people who maintain social distancing may also be more likely to maintain personal distance as well, given the positive correlation between these two variables."
   ]
  },
  {
   "cell_type": "markdown",
   "id": "55cbd006",
   "metadata": {},
   "source": [
    "2. Logistic Regression with One Variable (20 points)\n",
    "\n",
    "    a) Can you map the Risk (Risk) of contracting influenza (x) to Flu (y) i.e., whether the student reported flu-like symptoms in the past year?"
   ]
  },
  {
   "cell_type": "code",
   "execution_count": 22,
   "id": "f235312f",
   "metadata": {},
   "outputs": [
    {
     "data": {
      "image/png": "[encoded data removed]",
      "text/plain": [
       "<Figure size 640x480 with 1 Axes>"
      ]
     },
     "metadata": {},
     "output_type": "display_data"
    }
   ],
   "source": [
    "# Create a scatter plot with Risk on the x-axis and Flu on the y-axis\n",
    "plt.scatter(df[\"Risk\"], df[\"Flu\"])\n",
    "\n",
    "# Add labels to the axes\n",
    "plt.xlabel(\"Risk of contracting influenza\")\n",
    "plt.ylabel(\"Flu - Whether or not the person has had a flu-like illness in the past year\")\n",
    "\n",
    "# Show the plot\n",
    "plt.show()"
   ]
  },
  {
   "cell_type": "markdown",
   "id": "7b128075",
   "metadata": {},
   "source": [
    "Based on the scatter plot, we can see that there is a weak negative correlation between the \"Risk of contracting influenza\" and \"Flu\" variables. This means that as the risk of contracting influenza increases, the likelihood of having had a flu-like illness in the past year decreases slightly, but the relationship is not very strong.\n",
    "\n",
    "Additionally, there are a few outliers with high values of risk and flu, but the majority of the data points are concentrated in the lower left quadrant of the plot.\n",
    "\n",
    "Overall, the scatter plot suggests that there is a weak negative relationship between the two variables."
   ]
  },
  {
   "cell_type": "markdown",
   "id": "be2fcf50",
   "metadata": {},
   "source": [
    "b) Evaluate performance using a metric discussed in class (such as confusion matrix). You\n",
    "may also use graphs for explaining your observations.\n"
   ]
  },
  {
   "cell_type": "code",
   "execution_count": 23,
   "id": "ee6d0f67",
   "metadata": {},
   "outputs": [],
   "source": [
    "from sklearn.linear_model import LogisticRegression\n",
    "from sklearn.metrics import confusion_matrix\n",
    "import matplotlib.pyplot as plt\n",
    "import numpy as np\n",
    "import pandas as pd"
   ]
  },
  {
   "cell_type": "code",
   "execution_count": 24,
   "id": "8ca88cbd",
   "metadata": {},
   "outputs": [],
   "source": [
    "# load data\n",
    "df = pd.read_csv('flue.csv')"
   ]
  },
  {
   "cell_type": "code",
   "execution_count": 25,
   "id": "89ee4705",
   "metadata": {},
   "outputs": [],
   "source": [
    "# select relevant columns\n",
    "data = df[['Flu', 'Risk']]"
   ]
  },
  {
   "cell_type": "code",
   "execution_count": 26,
   "id": "c86ebd5c",
   "metadata": {},
   "outputs": [],
   "source": [
    "# replace missing values with the median of the column\n",
    "data.fillna(data.median(), inplace=True)"
   ]
  },
  {
   "cell_type": "code",
   "execution_count": 27,
   "id": "14b101a8",
   "metadata": {},
   "outputs": [],
   "source": [
    "# split data into training and testing sets\n",
    "train = data.sample(frac=0.8, random_state=1234)\n",
    "test = data.drop(train.index)"
   ]
  },
  {
   "cell_type": "code",
   "execution_count": 28,
   "id": "fae3a90e",
   "metadata": {},
   "outputs": [],
   "source": [
    "# fit logistic regression model\n",
    "X_train = train[['Risk']]\n",
    "y_train = train['Flu']"
   ]
  },
  {
   "cell_type": "code",
   "execution_count": 29,
   "id": "5bb069f6",
   "metadata": {},
   "outputs": [
    {
     "name": "stdout",
     "output_type": "stream",
     "text": [
      "X_train shape (328, 1)\n",
      "Y_train shape (328,)\n"
     ]
    }
   ],
   "source": [
    "print('X_train shape', X_train.shape) \n",
    "print('Y_train shape', y_train.shape)"
   ]
  },
  {
   "cell_type": "code",
   "execution_count": 30,
   "id": "7aea29dc",
   "metadata": {},
   "outputs": [],
   "source": [
    "model = LogisticRegression()"
   ]
  },
  {
   "cell_type": "code",
   "execution_count": 31,
   "id": "85f58bb3",
   "metadata": {},
   "outputs": [
    {
     "data": {
      "text/html": [
       "<style>#sk-container-id-1 {color: black;background-color: white;}#sk-container-id-1 pre{padding: 0;}#sk-container-id-1 div.sk-toggleable {background-color: white;}#sk-container-id-1 label.sk-toggleable__label {cursor: pointer;display: block;width: 100%;margin-bottom: 0;padding: 0.3em;box-sizing: border-box;text-align: center;}#sk-container-id-1 label.sk-toggleable__label-arrow:before {content: \"▸\";float: left;margin-right: 0.25em;color: #696969;}#sk-container-id-1 label.sk-toggleable__label-arrow:hover:before {color: black;}#sk-container-id-1 div.sk-estimator:hover label.sk-toggleable__label-arrow:before {color: black;}#sk-container-id-1 div.sk-toggleable__content {max-height: 0;max-width: 0;overflow: hidden;text-align: left;background-color: #f0f8ff;}#sk-container-id-1 div.sk-toggleable__content pre {margin: 0.2em;color: black;border-radius: 0.25em;background-color: #f0f8ff;}#sk-container-id-1 input.sk-toggleable__control:checked~div.sk-toggleable__content {max-height: 200px;max-width: 100%;overflow: auto;}#sk-container-id-1 input.sk-toggleable__control:checked~label.sk-toggleable__label-arrow:before {content: \"▾\";}#sk-container-id-1 div.sk-estimator input.sk-toggleable__control:checked~label.sk-toggleable__label {background-color: #d4ebff;}#sk-container-id-1 div.sk-label input.sk-toggleable__control:checked~label.sk-toggleable__label {background-color: #d4ebff;}#sk-container-id-1 input.sk-hidden--visually {border: 0;clip: rect(1px 1px 1px 1px);clip: rect(1px, 1px, 1px, 1px);height: 1px;margin: -1px;overflow: hidden;padding: 0;position: absolute;width: 1px;}#sk-container-id-1 div.sk-estimator {font-family: monospace;background-color: #f0f8ff;border: 1px dotted black;border-radius: 0.25em;box-sizing: border-box;margin-bottom: 0.5em;}#sk-container-id-1 div.sk-estimator:hover {background-color: #d4ebff;}#sk-container-id-1 div.sk-parallel-item::after {content: \"\";width: 100%;border-bottom: 1px solid gray;flex-grow: 1;}#sk-container-id-1 div.sk-label:hover label.sk-toggleable__label {background-color: #d4ebff;}#sk-container-id-1 div.sk-serial::before {content: \"\";position: absolute;border-left: 1px solid gray;box-sizing: border-box;top: 0;bottom: 0;left: 50%;z-index: 0;}#sk-container-id-1 div.sk-serial {display: flex;flex-direction: column;align-items: center;background-color: white;padding-right: 0.2em;padding-left: 0.2em;position: relative;}#sk-container-id-1 div.sk-item {position: relative;z-index: 1;}#sk-container-id-1 div.sk-parallel {display: flex;align-items: stretch;justify-content: center;background-color: white;position: relative;}#sk-container-id-1 div.sk-item::before, #sk-container-id-1 div.sk-parallel-item::before {content: \"\";position: absolute;border-left: 1px solid gray;box-sizing: border-box;top: 0;bottom: 0;left: 50%;z-index: -1;}#sk-container-id-1 div.sk-parallel-item {display: flex;flex-direction: column;z-index: 1;position: relative;background-color: white;}#sk-container-id-1 div.sk-parallel-item:first-child::after {align-self: flex-end;width: 50%;}#sk-container-id-1 div.sk-parallel-item:last-child::after {align-self: flex-start;width: 50%;}#sk-container-id-1 div.sk-parallel-item:only-child::after {width: 0;}#sk-container-id-1 div.sk-dashed-wrapped {border: 1px dashed gray;margin: 0 0.4em 0.5em 0.4em;box-sizing: border-box;padding-bottom: 0.4em;background-color: white;}#sk-container-id-1 div.sk-label label {font-family: monospace;font-weight: bold;display: inline-block;line-height: 1.2em;}#sk-container-id-1 div.sk-label-container {text-align: center;}#sk-container-id-1 div.sk-container {/* jupyter's `normalize.less` sets `[hidden] { display: none; }` but bootstrap.min.css set `[hidden] { display: none !important; }` so we also need the `!important` here to be able to override the default hidden behavior on the sphinx rendered scikit-learn.org. See: https://github.com/scikit-learn/scikit-learn/issues/21755 */display: inline-block !important;position: relative;}#sk-container-id-1 div.sk-text-repr-fallback {display: none;}</style><div id=\"sk-container-id-1\" class=\"sk-top-container\"><div class=\"sk-text-repr-fallback\"><pre>LogisticRegression()</pre><b>In a Jupyter environment, please rerun this cell to show the HTML representation or trust the notebook. <br />On GitHub, the HTML representation is unable to render, please try loading this page with nbviewer.org.</b></div><div class=\"sk-container\" hidden><div class=\"sk-item\"><div class=\"sk-estimator sk-toggleable\"><input class=\"sk-toggleable__control sk-hidden--visually\" id=\"sk-estimator-id-1\" type=\"checkbox\" checked><label for=\"sk-estimator-id-1\" class=\"sk-toggleable__label sk-toggleable__label-arrow\">LogisticRegression</label><div class=\"sk-toggleable__content\"><pre>LogisticRegression()</pre></div></div></div></div></div>"
      ],
      "text/plain": [
       "LogisticRegression()"
      ]
     },
     "execution_count": 31,
     "metadata": {},
     "output_type": "execute_result"
    }
   ],
   "source": [
    "model.fit(X_train, y_train)"
   ]
  },
  {
   "cell_type": "code",
   "execution_count": 32,
   "id": "87167ccb",
   "metadata": {},
   "outputs": [
    {
     "data": {
      "text/plain": [
       "array([[63,  0],\n",
       "       [16,  3]], dtype=int64)"
      ]
     },
     "execution_count": 32,
     "metadata": {},
     "output_type": "execute_result"
    }
   ],
   "source": [
    "# evaluate performance on test set\n",
    "X_test = test[['Risk']]\n",
    "y_test = test['Flu']\n",
    "y_pred = model.predict(X_test)\n",
    "conf_matrix = confusion_matrix(y_test, y_pred)\n",
    "conf_matrix"
   ]
  },
  {
   "cell_type": "code",
   "execution_count": 33,
   "id": "2a647f5e",
   "metadata": {},
   "outputs": [
    {
     "data": {
      "image/png": "[encoded data removed]",
      "text/plain": [
       "<Figure size 640x480 with 2 Axes>"
      ]
     },
     "metadata": {},
     "output_type": "display_data"
    }
   ],
   "source": [
    "# plot confusion matrix\n",
    "labels = ['No Flu', 'Flu']\n",
    "fig = plt.figure()\n",
    "ax = fig.add_subplot(111)\n",
    "cax = ax.matshow(conf_matrix, cmap=plt.cm.Blues)\n",
    "fig.colorbar(cax)\n",
    "plt.title(\"Explaining the observations\")\n",
    "ax.set_xticklabels([''] + labels)\n",
    "ax.set_yticklabels([''] + labels)\n",
    "plt.xlabel('Predicted')\n",
    "plt.ylabel('True')\n",
    "plt.show()"
   ]
  },
  {
   "cell_type": "code",
   "execution_count": 34,
   "id": "9275a92b",
   "metadata": {},
   "outputs": [
    {
     "name": "stdout",
     "output_type": "stream",
     "text": [
      "Confusion matrix:\n",
      "[[63  0]\n",
      " [16  3]]\n"
     ]
    }
   ],
   "source": [
    "# print confusion matrix and accuracy\n",
    "print('Confusion matrix:')\n",
    "print(conf_matrix)\n",
    "accuracy = np.sum(np.diag(conf_matrix)) / np.sum(conf_matrix)"
   ]
  },
  {
   "cell_type": "markdown",
   "id": "054dc3a8",
   "metadata": {},
   "source": [
    "The overall accuracy of the model is (63+3)/(63+3+16+0) = 0.80 or 80%.\n",
    "\n",
    "The model's precision is 3/(3+0) = 1.00 or 100%, meaning that all the samples predicted as positive examples were actually positive examples.\n",
    "\n",
    "The model's recall is 3/(3+16) = 0.16 or 16%, meaning that the model missed a significant number of positive examples."
   ]
  },
  {
   "cell_type": "markdown",
   "id": "71bf3ab3",
   "metadata": {},
   "source": [
    "#### "
   ]
  },
  {
   "cell_type": "markdown",
   "id": "0c62bc46",
   "metadata": {},
   "source": [
    "Based on the confusion matrix, we can conclude that the model has a high accuracy and precision, but a low recall. This suggests that the model is good at identifying negative examples, but may miss positive examples. \n",
    "\n",
    "The model may need to be improved in order to increase its recall and reduce the number of false negatives."
   ]
  },
  {
   "cell_type": "code",
   "execution_count": 35,
   "id": "18195abd",
   "metadata": {},
   "outputs": [
    {
     "name": "stdout",
     "output_type": "stream",
     "text": [
      "Accuracy: 0.8048780487804879\n"
     ]
    }
   ],
   "source": [
    "print('Accuracy:', accuracy)"
   ]
  },
  {
   "cell_type": "markdown",
   "id": "3e7e7b70",
   "metadata": {},
   "source": [
    "#### Inferences \n",
    "\n",
    "Predicted values with an accuracy of 80%"
   ]
  },
  {
   "cell_type": "code",
   "execution_count": 36,
   "id": "71d63892",
   "metadata": {},
   "outputs": [
    {
     "data": {
      "image/png": "[encoded data removed]",
      "text/plain": [
       "<Figure size 640x480 with 1 Axes>"
      ]
     },
     "metadata": {},
     "output_type": "display_data"
    }
   ],
   "source": [
    "# plot decision boundary\n",
    "plt.scatter(data['Risk'], data['Flu'], c=data['Flu'], cmap=plt.cm.RdBu)\n",
    "plt.xlabel('Risk')\n",
    "plt.ylabel('Flu')\n",
    "plt.xlim(-0.5, 1.5)\n",
    "plt.ylim(-0.5, 1.5)\n",
    "x = np.linspace(-0.5, 1.5, 100)\n",
    "y = model.predict_proba(x.reshape(-1, 1))[:, 1]\n",
    "plt.plot(x, y, color='black')\n",
    "plt.show()"
   ]
  },
  {
   "cell_type": "markdown",
   "id": "c3789916",
   "metadata": {},
   "source": [
    "#### Inferences\n",
    "\n",
    "The scatter plot shows the distribution of the data points with the x-axis representing the risk score and the y-axis representing whether the patient has the flu or not. The data points that have a value of 1 on the y-axis represent patients who have the flu, while the data points with a value of 0 represent patients who do not have the flu.\n",
    "\n",
    "The black line in the plot represents the decision boundary of the model. The decision boundary is the line that separates the regions where the model predicts positive examples (patients with the flu) from the regions where it predicts negative examples (patients without the flu).\n",
    "\n",
    "The plot suggests that the model is reasonably accurate but may not be perfect, and that there is some overlap between the regions where the model predicts positive and negative examples."
   ]
  },
  {
   "cell_type": "markdown",
   "id": "aeea3b2d",
   "metadata": {},
   "source": [
    "3. Logistic Regression with Multiple Variables (40 points)\n",
    "\n",
    "    3(a) Design a Logistic Regression model to predict whether a student reported flu-like \n",
    "symptoms in the past year i.e., Flu(y) using below 12 variables in the dataset as input \n",
    "variables:\n",
    "\n",
    "Vaccin, HndWshQual, HndWshFreq, SociDist, NoFaceContact, RespEttiqu, PersnDist,\n",
    "HandSanit, Risk, Inefficacy, KnowlTrans, KnowlMgmt"
   ]
  },
  {
   "cell_type": "markdown",
   "id": "442aa429",
   "metadata": {},
   "source": [
    "#### "
   ]
  },
  {
   "cell_type": "markdown",
   "id": "cac48210",
   "metadata": {},
   "source": [
    "### First I am implementing the Logistic Regression model from scratch without any library of Python"
   ]
  },
  {
   "cell_type": "code",
   "execution_count": 37,
   "id": "226bfb63",
   "metadata": {},
   "outputs": [],
   "source": [
    "import pandas as pd\n",
    "import numpy as np\n",
    "from sklearn.model_selection import train_test_split\n",
    "from sklearn.preprocessing import StandardScaler"
   ]
  },
  {
   "cell_type": "code",
   "execution_count": 38,
   "id": "b9761e34",
   "metadata": {},
   "outputs": [],
   "source": [
    "df = pd.read_csv('flue.csv')"
   ]
  },
  {
   "cell_type": "code",
   "execution_count": 39,
   "id": "b1ed5e80",
   "metadata": {},
   "outputs": [],
   "source": [
    "# select the input variables\n",
    "X = df[['Vaccin', 'HndWshQual', 'HndWshFreq', 'SociDist', 'NoFaceContact', 'RespEttiqu', 'PersnDist', 'HandSanit', 'Risk', 'Inefficacy', 'KnowlTrans', 'KnowlMgmt']].values\n",
    "\n",
    "# select the target variable\n",
    "y = df['Flu'].values"
   ]
  },
  {
   "cell_type": "code",
   "execution_count": 40,
   "id": "5dd35691",
   "metadata": {},
   "outputs": [],
   "source": [
    "# split the dataset into training and test sets\n",
    "X_train, X_test, y_train, y_test = train_test_split(X, y, test_size=0.3, random_state=42)"
   ]
  },
  {
   "cell_type": "code",
   "execution_count": 41,
   "id": "ee4fe843",
   "metadata": {},
   "outputs": [],
   "source": [
    "# standardize the input variables using the same mean and standard deviation as the training data\n",
    "scaler = StandardScaler()\n",
    "X_train = scaler.fit_transform(X_train)\n",
    "X_test = scaler.transform(X_test)"
   ]
  },
  {
   "cell_type": "markdown",
   "id": "e7a3b71d",
   "metadata": {},
   "source": [
    "### Let's train the logistic regression model"
   ]
  },
  {
   "cell_type": "code",
   "execution_count": 42,
   "id": "cad09010",
   "metadata": {},
   "outputs": [],
   "source": [
    "def sigmoid(z):\n",
    "    return 1 / (1 + np.exp(-z))\n"
   ]
  },
  {
   "cell_type": "code",
   "execution_count": 43,
   "id": "fce06a29",
   "metadata": {},
   "outputs": [],
   "source": [
    "def predict_proba(X, theta):\n",
    "    return sigmoid(np.dot(X, theta))\n"
   ]
  },
  {
   "cell_type": "code",
   "execution_count": 44,
   "id": "0b0511c2",
   "metadata": {},
   "outputs": [],
   "source": [
    "def predict(X, theta, threshold=0.5):\n",
    "    proba = predict_proba(X, theta)\n",
    "    return (proba >= threshold).astype(int)"
   ]
  },
  {
   "cell_type": "code",
   "execution_count": 45,
   "id": "09557b06",
   "metadata": {},
   "outputs": [],
   "source": [
    "def cost_function(theta, X, y):\n",
    "    m = len(y)\n",
    "    h = sigmoid(np.dot(X, theta))\n",
    "    J = -1 / m * np.sum(y * np.log(h) + (1 - y) * np.log(1 - h))\n",
    "    grad = 1 / m * np.dot(X.T, (h - y))\n",
    "    return J, grad"
   ]
  },
  {
   "cell_type": "code",
   "execution_count": 46,
   "id": "424c6dab",
   "metadata": {},
   "outputs": [],
   "source": [
    "def gradient_descent(theta, X, y, alpha, num_iters):\n",
    "    J_history = []\n",
    "    for i in range(num_iters):\n",
    "        J, grad = cost_function(theta, X, y)\n",
    "        theta -= alpha * grad\n",
    "        J_history.append(J)\n",
    "    return theta, J_history"
   ]
  },
  {
   "cell_type": "code",
   "execution_count": 47,
   "id": "45cbba61",
   "metadata": {},
   "outputs": [],
   "source": [
    "# initialize the model parameters\n",
    "theta = np.zeros(X_train.shape[1])"
   ]
  },
  {
   "cell_type": "code",
   "execution_count": 48,
   "id": "4fa70290",
   "metadata": {},
   "outputs": [],
   "source": [
    "# train the model on the training set\n",
    "alpha = 0.1\n",
    "num_iters = 1000\n",
    "theta, J_history = gradient_descent(theta, X_train, y_train, alpha, num_iters)"
   ]
  },
  {
   "cell_type": "code",
   "execution_count": 49,
   "id": "8c030561",
   "metadata": {},
   "outputs": [
    {
     "name": "stdout",
     "output_type": "stream",
     "text": [
      "Test accuracy: 0.67\n"
     ]
    }
   ],
   "source": [
    "# evaluate the model on the test set\n",
    "y_pred = predict(X_test, theta)\n",
    "accuracy = np.mean(y_pred == y_test)\n",
    "print(f'Test accuracy: {accuracy:.2f}')\n"
   ]
  },
  {
   "cell_type": "markdown",
   "id": "4a34c67a",
   "metadata": {},
   "source": [
    "#### We got the accuracy of 67%"
   ]
  },
  {
   "cell_type": "code",
   "execution_count": 50,
   "id": "3de361e3",
   "metadata": {},
   "outputs": [],
   "source": [
    "# prepare the new_data input for prediction\n",
    "\n",
    "new_data = pd.read_csv('new_data.csv')\n",
    "X_new = new_data[['Vaccin', 'HndWshQual', 'HndWshFreq', 'SociDist', 'NoFaceContact', 'RespEttiqu', 'PersnDist', 'HandSanit', 'Risk', 'Inefficacy', 'KnowlTrans', 'KnowlMgmt']].values\n",
    "X_new = (X_new - np.mean(X, axis=0)) / np.std(X, axis=0)"
   ]
  },
  {
   "cell_type": "code",
   "execution_count": 51,
   "id": "f8be703b",
   "metadata": {},
   "outputs": [
    {
     "name": "stdout",
     "output_type": "stream",
     "text": [
      "This are the predicted values using logistic regression model--\n",
      "[0 0 0 0]\n"
     ]
    }
   ],
   "source": [
    "# make predictions on the new data\n",
    "y_new_pred = predict(X_new, theta)\n",
    "print(\"This are the predicted values using logistic regression model--\")\n",
    "print(y_new_pred)\n"
   ]
  },
  {
   "cell_type": "code",
   "execution_count": 52,
   "id": "8ada790c",
   "metadata": {},
   "outputs": [],
   "source": [
    "# Here's the code to make binary predictions based on the predicted probabilities:\n",
    "\n",
    "# set the threshold\n",
    "threshold = 0.5"
   ]
  },
  {
   "cell_type": "code",
   "execution_count": 53,
   "id": "09e8dd53",
   "metadata": {},
   "outputs": [
    {
     "name": "stdout",
     "output_type": "stream",
     "text": [
      "[0 0 0 0]\n"
     ]
    }
   ],
   "source": [
    "# make binary predictions based on the threshold\n",
    "y_new_pred_binary = (y_new_pred > threshold).astype(int)\n",
    "\n",
    "# print the binary predictions\n",
    "print(y_new_pred_binary)"
   ]
  },
  {
   "cell_type": "markdown",
   "id": "3a3dcd6a",
   "metadata": {},
   "source": [
    "### Observation--\n",
    "\n",
    "The binary predictions y_new_pred_binary tell us which of the new observations are predicted to have had the flu in the past year (1) and which are predicted not to have had the flu (0). These predictions can be used to make decisions, such as targeting flu prevention measures to individuals who are predicted to be at high risk based on their input variables."
   ]
  },
  {
   "cell_type": "markdown",
   "id": "91590ca2",
   "metadata": {},
   "source": [
    "#### "
   ]
  },
  {
   "cell_type": "markdown",
   "id": "4c4315b8",
   "metadata": {},
   "source": [
    "### Now let's implement the logistic regression using sklearn library for checking the Performance of both--"
   ]
  },
  {
   "cell_type": "code",
   "execution_count": 54,
   "id": "2c9682c0",
   "metadata": {},
   "outputs": [],
   "source": [
    "from sklearn.impute import SimpleImputer\n",
    "from sklearn.linear_model import LogisticRegression\n",
    "from sklearn.model_selection import train_test_split\n",
    "from sklearn.metrics import classification_report\n",
    "from sklearn.metrics import accuracy_score"
   ]
  },
  {
   "cell_type": "code",
   "execution_count": 55,
   "id": "d94b0da2",
   "metadata": {},
   "outputs": [],
   "source": [
    "df.dropna(axis=0, inplace=True)"
   ]
  },
  {
   "cell_type": "code",
   "execution_count": 56,
   "id": "ca6f5052",
   "metadata": {},
   "outputs": [
    {
     "data": {
      "text/plain": [
       "0"
      ]
     },
     "execution_count": 56,
     "metadata": {},
     "output_type": "execute_result"
    }
   ],
   "source": [
    "df['Flu'].isnull().sum()"
   ]
  },
  {
   "cell_type": "code",
   "execution_count": 57,
   "id": "78808419",
   "metadata": {},
   "outputs": [],
   "source": [
    "X = df[['Vaccin', 'HndWshQual', 'HndWshFreq', 'SociDist', 'NoFaceContact', 'RespEttiqu', 'PersnDist', 'HandSanit', 'Risk', 'Inefficacy', 'KnowlTrans']]\n",
    "y = df['Flu']"
   ]
  },
  {
   "cell_type": "code",
   "execution_count": 58,
   "id": "d8289047",
   "metadata": {},
   "outputs": [],
   "source": [
    "# Split the dataset into training and testing sets\n",
    "X_train, X_test, y_train, y_test = train_test_split(X, y, test_size=0.2, random_state=42)"
   ]
  },
  {
   "cell_type": "code",
   "execution_count": 59,
   "id": "1efa348d",
   "metadata": {},
   "outputs": [
    {
     "data": {
      "text/html": [
       "<style>#sk-container-id-2 {color: black;background-color: white;}#sk-container-id-2 pre{padding: 0;}#sk-container-id-2 div.sk-toggleable {background-color: white;}#sk-container-id-2 label.sk-toggleable__label {cursor: pointer;display: block;width: 100%;margin-bottom: 0;padding: 0.3em;box-sizing: border-box;text-align: center;}#sk-container-id-2 label.sk-toggleable__label-arrow:before {content: \"▸\";float: left;margin-right: 0.25em;color: #696969;}#sk-container-id-2 label.sk-toggleable__label-arrow:hover:before {color: black;}#sk-container-id-2 div.sk-estimator:hover label.sk-toggleable__label-arrow:before {color: black;}#sk-container-id-2 div.sk-toggleable__content {max-height: 0;max-width: 0;overflow: hidden;text-align: left;background-color: #f0f8ff;}#sk-container-id-2 div.sk-toggleable__content pre {margin: 0.2em;color: black;border-radius: 0.25em;background-color: #f0f8ff;}#sk-container-id-2 input.sk-toggleable__control:checked~div.sk-toggleable__content {max-height: 200px;max-width: 100%;overflow: auto;}#sk-container-id-2 input.sk-toggleable__control:checked~label.sk-toggleable__label-arrow:before {content: \"▾\";}#sk-container-id-2 div.sk-estimator input.sk-toggleable__control:checked~label.sk-toggleable__label {background-color: #d4ebff;}#sk-container-id-2 div.sk-label input.sk-toggleable__control:checked~label.sk-toggleable__label {background-color: #d4ebff;}#sk-container-id-2 input.sk-hidden--visually {border: 0;clip: rect(1px 1px 1px 1px);clip: rect(1px, 1px, 1px, 1px);height: 1px;margin: -1px;overflow: hidden;padding: 0;position: absolute;width: 1px;}#sk-container-id-2 div.sk-estimator {font-family: monospace;background-color: #f0f8ff;border: 1px dotted black;border-radius: 0.25em;box-sizing: border-box;margin-bottom: 0.5em;}#sk-container-id-2 div.sk-estimator:hover {background-color: #d4ebff;}#sk-container-id-2 div.sk-parallel-item::after {content: \"\";width: 100%;border-bottom: 1px solid gray;flex-grow: 1;}#sk-container-id-2 div.sk-label:hover label.sk-toggleable__label {background-color: #d4ebff;}#sk-container-id-2 div.sk-serial::before {content: \"\";position: absolute;border-left: 1px solid gray;box-sizing: border-box;top: 0;bottom: 0;left: 50%;z-index: 0;}#sk-container-id-2 div.sk-serial {display: flex;flex-direction: column;align-items: center;background-color: white;padding-right: 0.2em;padding-left: 0.2em;position: relative;}#sk-container-id-2 div.sk-item {position: relative;z-index: 1;}#sk-container-id-2 div.sk-parallel {display: flex;align-items: stretch;justify-content: center;background-color: white;position: relative;}#sk-container-id-2 div.sk-item::before, #sk-container-id-2 div.sk-parallel-item::before {content: \"\";position: absolute;border-left: 1px solid gray;box-sizing: border-box;top: 0;bottom: 0;left: 50%;z-index: -1;}#sk-container-id-2 div.sk-parallel-item {display: flex;flex-direction: column;z-index: 1;position: relative;background-color: white;}#sk-container-id-2 div.sk-parallel-item:first-child::after {align-self: flex-end;width: 50%;}#sk-container-id-2 div.sk-parallel-item:last-child::after {align-self: flex-start;width: 50%;}#sk-container-id-2 div.sk-parallel-item:only-child::after {width: 0;}#sk-container-id-2 div.sk-dashed-wrapped {border: 1px dashed gray;margin: 0 0.4em 0.5em 0.4em;box-sizing: border-box;padding-bottom: 0.4em;background-color: white;}#sk-container-id-2 div.sk-label label {font-family: monospace;font-weight: bold;display: inline-block;line-height: 1.2em;}#sk-container-id-2 div.sk-label-container {text-align: center;}#sk-container-id-2 div.sk-container {/* jupyter's `normalize.less` sets `[hidden] { display: none; }` but bootstrap.min.css set `[hidden] { display: none !important; }` so we also need the `!important` here to be able to override the default hidden behavior on the sphinx rendered scikit-learn.org. See: https://github.com/scikit-learn/scikit-learn/issues/21755 */display: inline-block !important;position: relative;}#sk-container-id-2 div.sk-text-repr-fallback {display: none;}</style><div id=\"sk-container-id-2\" class=\"sk-top-container\"><div class=\"sk-text-repr-fallback\"><pre>LogisticRegression()</pre><b>In a Jupyter environment, please rerun this cell to show the HTML representation or trust the notebook. <br />On GitHub, the HTML representation is unable to render, please try loading this page with nbviewer.org.</b></div><div class=\"sk-container\" hidden><div class=\"sk-item\"><div class=\"sk-estimator sk-toggleable\"><input class=\"sk-toggleable__control sk-hidden--visually\" id=\"sk-estimator-id-2\" type=\"checkbox\" checked><label for=\"sk-estimator-id-2\" class=\"sk-toggleable__label sk-toggleable__label-arrow\">LogisticRegression</label><div class=\"sk-toggleable__content\"><pre>LogisticRegression()</pre></div></div></div></div></div>"
      ],
      "text/plain": [
       "LogisticRegression()"
      ]
     },
     "execution_count": 59,
     "metadata": {},
     "output_type": "execute_result"
    }
   ],
   "source": [
    "# Build a logistic regression model\n",
    "model = LogisticRegression()\n",
    "model.fit(X_train, y_train)"
   ]
  },
  {
   "cell_type": "code",
   "execution_count": 60,
   "id": "77f3c9ec",
   "metadata": {},
   "outputs": [],
   "source": [
    "# Make predictions on the test set\n",
    "y_pred = model.predict(X_test)"
   ]
  },
  {
   "cell_type": "code",
   "execution_count": 61,
   "id": "493a2ed9",
   "metadata": {},
   "outputs": [
    {
     "name": "stdout",
     "output_type": "stream",
     "text": [
      "              precision    recall  f1-score   support\n",
      "\n",
      "         0.0       0.79      0.96      0.87        54\n",
      "         1.0       0.60      0.18      0.27        17\n",
      "\n",
      "    accuracy                           0.77        71\n",
      "   macro avg       0.69      0.57      0.57        71\n",
      "weighted avg       0.74      0.77      0.72        71\n",
      "\n"
     ]
    }
   ],
   "source": [
    "# Generate a classification report\n",
    "print(classification_report(y_test, y_pred))"
   ]
  },
  {
   "cell_type": "code",
   "execution_count": 62,
   "id": "0b96e55a",
   "metadata": {},
   "outputs": [
    {
     "name": "stdout",
     "output_type": "stream",
     "text": [
      "[[52  2]\n",
      " [14  3]]\n"
     ]
    }
   ],
   "source": [
    "from sklearn.metrics import confusion_matrix\n",
    "\n",
    "conf_matrix_full = confusion_matrix(y_test, y_pred)\n",
    "print(conf_matrix_full)"
   ]
  },
  {
   "cell_type": "code",
   "execution_count": 63,
   "id": "04630015",
   "metadata": {},
   "outputs": [
    {
     "name": "stdout",
     "output_type": "stream",
     "text": [
      "Accuracy score of full model using selected features in 3(a): 0.7746478873239436\n"
     ]
    }
   ],
   "source": [
    "accuracy = accuracy_score(y_test, y_pred)\n",
    "print(\"Accuracy score of full model using selected features in 3(a):\", accuracy)"
   ]
  },
  {
   "cell_type": "markdown",
   "id": "5e5bfb3f",
   "metadata": {},
   "source": [
    "### Inferences \n",
    "\n",
    "From the precision, recall, and f1-score metrics, we can see that the model has performed reasonably well in predicting the negative class (students who did not report flu-like symptoms in the past year), with a precision of 0.79 and recall of 0.96. However, the model's performance in predicting the positive class (students who reported flu-like symptoms in the past year) is not as good, with a precision of 0.60 and recall of 0.18.\n",
    "\n",
    "The accuracy of the model is 0.77, which means that the model correctly predicted the class of 77% of the instances in the test set.\n",
    "\n",
    "Overall, the model seems to have a better performance in predicting the negative class than the positive class, and may require further tuning or feature selection to improve its performance."
   ]
  },
  {
   "cell_type": "markdown",
   "id": "e3c5e4cf",
   "metadata": {},
   "source": [
    "### "
   ]
  },
  {
   "cell_type": "markdown",
   "id": "eee1699c",
   "metadata": {},
   "source": [
    "3 (b) Design a Logistic Regression model to predict whether a student reported flu-like \n",
    "symptoms in the past year i.e., Flu(y) using forward selection to select most significant \n",
    "variables in the dataset as input variables. Which subset of features gave you the best \n",
    "performance? What are your thoughts on these features getting selected?"
   ]
  },
  {
   "cell_type": "code",
   "execution_count": 64,
   "id": "571c2a25",
   "metadata": {},
   "outputs": [],
   "source": [
    "# Importing the required libraries\n",
    "\n",
    "from mlxtend.feature_selection import SequentialFeatureSelector\n",
    "from sklearn.linear_model import LogisticRegression\n",
    "from sklearn.model_selection import train_test_split\n",
    "from sklearn.metrics import classification_report\n",
    "import pandas as pd\n",
    "from sklearn.metrics import accuracy_score"
   ]
  },
  {
   "cell_type": "code",
   "execution_count": 65,
   "id": "d51671c5",
   "metadata": {},
   "outputs": [],
   "source": [
    "# Split the dataset into training and testing sets\n",
    "X_train, X_test, y_train, y_test = train_test_split(X, y, test_size=0.2, random_state=42)"
   ]
  },
  {
   "cell_type": "code",
   "execution_count": 66,
   "id": "47416a1e",
   "metadata": {},
   "outputs": [],
   "source": [
    "# Build a logistic regression model with L1 regularization\n",
    "model = LogisticRegression(penalty='l1', solver='liblinear')"
   ]
  },
  {
   "cell_type": "code",
   "execution_count": 67,
   "id": "6583b88b",
   "metadata": {},
   "outputs": [
    {
     "data": {
      "text/html": [
       "<style>#sk-container-id-3 {color: black;background-color: white;}#sk-container-id-3 pre{padding: 0;}#sk-container-id-3 div.sk-toggleable {background-color: white;}#sk-container-id-3 label.sk-toggleable__label {cursor: pointer;display: block;width: 100%;margin-bottom: 0;padding: 0.3em;box-sizing: border-box;text-align: center;}#sk-container-id-3 label.sk-toggleable__label-arrow:before {content: \"▸\";float: left;margin-right: 0.25em;color: #696969;}#sk-container-id-3 label.sk-toggleable__label-arrow:hover:before {color: black;}#sk-container-id-3 div.sk-estimator:hover label.sk-toggleable__label-arrow:before {color: black;}#sk-container-id-3 div.sk-toggleable__content {max-height: 0;max-width: 0;overflow: hidden;text-align: left;background-color: #f0f8ff;}#sk-container-id-3 div.sk-toggleable__content pre {margin: 0.2em;color: black;border-radius: 0.25em;background-color: #f0f8ff;}#sk-container-id-3 input.sk-toggleable__control:checked~div.sk-toggleable__content {max-height: 200px;max-width: 100%;overflow: auto;}#sk-container-id-3 input.sk-toggleable__control:checked~label.sk-toggleable__label-arrow:before {content: \"▾\";}#sk-container-id-3 div.sk-estimator input.sk-toggleable__control:checked~label.sk-toggleable__label {background-color: #d4ebff;}#sk-container-id-3 div.sk-label input.sk-toggleable__control:checked~label.sk-toggleable__label {background-color: #d4ebff;}#sk-container-id-3 input.sk-hidden--visually {border: 0;clip: rect(1px 1px 1px 1px);clip: rect(1px, 1px, 1px, 1px);height: 1px;margin: -1px;overflow: hidden;padding: 0;position: absolute;width: 1px;}#sk-container-id-3 div.sk-estimator {font-family: monospace;background-color: #f0f8ff;border: 1px dotted black;border-radius: 0.25em;box-sizing: border-box;margin-bottom: 0.5em;}#sk-container-id-3 div.sk-estimator:hover {background-color: #d4ebff;}#sk-container-id-3 div.sk-parallel-item::after {content: \"\";width: 100%;border-bottom: 1px solid gray;flex-grow: 1;}#sk-container-id-3 div.sk-label:hover label.sk-toggleable__label {background-color: #d4ebff;}#sk-container-id-3 div.sk-serial::before {content: \"\";position: absolute;border-left: 1px solid gray;box-sizing: border-box;top: 0;bottom: 0;left: 50%;z-index: 0;}#sk-container-id-3 div.sk-serial {display: flex;flex-direction: column;align-items: center;background-color: white;padding-right: 0.2em;padding-left: 0.2em;position: relative;}#sk-container-id-3 div.sk-item {position: relative;z-index: 1;}#sk-container-id-3 div.sk-parallel {display: flex;align-items: stretch;justify-content: center;background-color: white;position: relative;}#sk-container-id-3 div.sk-item::before, #sk-container-id-3 div.sk-parallel-item::before {content: \"\";position: absolute;border-left: 1px solid gray;box-sizing: border-box;top: 0;bottom: 0;left: 50%;z-index: -1;}#sk-container-id-3 div.sk-parallel-item {display: flex;flex-direction: column;z-index: 1;position: relative;background-color: white;}#sk-container-id-3 div.sk-parallel-item:first-child::after {align-self: flex-end;width: 50%;}#sk-container-id-3 div.sk-parallel-item:last-child::after {align-self: flex-start;width: 50%;}#sk-container-id-3 div.sk-parallel-item:only-child::after {width: 0;}#sk-container-id-3 div.sk-dashed-wrapped {border: 1px dashed gray;margin: 0 0.4em 0.5em 0.4em;box-sizing: border-box;padding-bottom: 0.4em;background-color: white;}#sk-container-id-3 div.sk-label label {font-family: monospace;font-weight: bold;display: inline-block;line-height: 1.2em;}#sk-container-id-3 div.sk-label-container {text-align: center;}#sk-container-id-3 div.sk-container {/* jupyter's `normalize.less` sets `[hidden] { display: none; }` but bootstrap.min.css set `[hidden] { display: none !important; }` so we also need the `!important` here to be able to override the default hidden behavior on the sphinx rendered scikit-learn.org. See: https://github.com/scikit-learn/scikit-learn/issues/21755 */display: inline-block !important;position: relative;}#sk-container-id-3 div.sk-text-repr-fallback {display: none;}</style><div id=\"sk-container-id-3\" class=\"sk-top-container\"><div class=\"sk-text-repr-fallback\"><pre>SequentialFeatureSelector(estimator=LogisticRegression(penalty=&#x27;l1&#x27;,\n",
       "                                                       solver=&#x27;liblinear&#x27;),\n",
       "                          k_features=(5, 5), scoring=&#x27;accuracy&#x27;)</pre><b>In a Jupyter environment, please rerun this cell to show the HTML representation or trust the notebook. <br />On GitHub, the HTML representation is unable to render, please try loading this page with nbviewer.org.</b></div><div class=\"sk-container\" hidden><div class=\"sk-item sk-dashed-wrapped\"><div class=\"sk-label-container\"><div class=\"sk-label sk-toggleable\"><input class=\"sk-toggleable__control sk-hidden--visually\" id=\"sk-estimator-id-3\" type=\"checkbox\" ><label for=\"sk-estimator-id-3\" class=\"sk-toggleable__label sk-toggleable__label-arrow\">SequentialFeatureSelector</label><div class=\"sk-toggleable__content\"><pre>SequentialFeatureSelector(estimator=LogisticRegression(penalty=&#x27;l1&#x27;,\n",
       "                                                       solver=&#x27;liblinear&#x27;),\n",
       "                          k_features=(5, 5), scoring=&#x27;accuracy&#x27;)</pre></div></div></div><div class=\"sk-parallel\"><div class=\"sk-parallel-item\"><div class=\"sk-item\"><div class=\"sk-label-container\"><div class=\"sk-label sk-toggleable\"><input class=\"sk-toggleable__control sk-hidden--visually\" id=\"sk-estimator-id-4\" type=\"checkbox\" ><label for=\"sk-estimator-id-4\" class=\"sk-toggleable__label sk-toggleable__label-arrow\">estimator: LogisticRegression</label><div class=\"sk-toggleable__content\"><pre>LogisticRegression(penalty=&#x27;l1&#x27;, solver=&#x27;liblinear&#x27;)</pre></div></div></div><div class=\"sk-serial\"><div class=\"sk-item\"><div class=\"sk-estimator sk-toggleable\"><input class=\"sk-toggleable__control sk-hidden--visually\" id=\"sk-estimator-id-5\" type=\"checkbox\" ><label for=\"sk-estimator-id-5\" class=\"sk-toggleable__label sk-toggleable__label-arrow\">LogisticRegression</label><div class=\"sk-toggleable__content\"><pre>LogisticRegression(penalty=&#x27;l1&#x27;, solver=&#x27;liblinear&#x27;)</pre></div></div></div></div></div></div></div></div></div></div>"
      ],
      "text/plain": [
       "SequentialFeatureSelector(estimator=LogisticRegression(penalty='l1',\n",
       "                                                       solver='liblinear'),\n",
       "                          k_features=(5, 5), scoring='accuracy')"
      ]
     },
     "execution_count": 67,
     "metadata": {},
     "output_type": "execute_result"
    }
   ],
   "source": [
    "# Use forward selection to select the most significant features\n",
    "sfs = SequentialFeatureSelector(model, forward=True, k_features=5, scoring='accuracy', cv=5)\n",
    "sfs.fit(X_train, y_train)"
   ]
  },
  {
   "cell_type": "code",
   "execution_count": 68,
   "id": "52241baa",
   "metadata": {},
   "outputs": [
    {
     "name": "stdout",
     "output_type": "stream",
     "text": [
      "(1, 2, 3, 6, 8)\n",
      "Index(['HndWshQual', 'HndWshFreq', 'SociDist', 'PersnDist', 'Risk'], dtype='object')\n"
     ]
    }
   ],
   "source": [
    "# Print the selected feature indices and column names\n",
    "print(sfs.k_feature_idx_)\n",
    "print(X.columns[list(sfs.k_feature_idx_)])"
   ]
  },
  {
   "cell_type": "code",
   "execution_count": 69,
   "id": "b187d54e",
   "metadata": {},
   "outputs": [],
   "source": [
    "# Train the model using the selected features\n",
    "X_train_sel = X_train.iloc[:, list(sfs.k_feature_idx_)]"
   ]
  },
  {
   "cell_type": "code",
   "execution_count": 70,
   "id": "42a72fd2",
   "metadata": {},
   "outputs": [
    {
     "data": {
      "text/html": [
       "<style>#sk-container-id-4 {color: black;background-color: white;}#sk-container-id-4 pre{padding: 0;}#sk-container-id-4 div.sk-toggleable {background-color: white;}#sk-container-id-4 label.sk-toggleable__label {cursor: pointer;display: block;width: 100%;margin-bottom: 0;padding: 0.3em;box-sizing: border-box;text-align: center;}#sk-container-id-4 label.sk-toggleable__label-arrow:before {content: \"▸\";float: left;margin-right: 0.25em;color: #696969;}#sk-container-id-4 label.sk-toggleable__label-arrow:hover:before {color: black;}#sk-container-id-4 div.sk-estimator:hover label.sk-toggleable__label-arrow:before {color: black;}#sk-container-id-4 div.sk-toggleable__content {max-height: 0;max-width: 0;overflow: hidden;text-align: left;background-color: #f0f8ff;}#sk-container-id-4 div.sk-toggleable__content pre {margin: 0.2em;color: black;border-radius: 0.25em;background-color: #f0f8ff;}#sk-container-id-4 input.sk-toggleable__control:checked~div.sk-toggleable__content {max-height: 200px;max-width: 100%;overflow: auto;}#sk-container-id-4 input.sk-toggleable__control:checked~label.sk-toggleable__label-arrow:before {content: \"▾\";}#sk-container-id-4 div.sk-estimator input.sk-toggleable__control:checked~label.sk-toggleable__label {background-color: #d4ebff;}#sk-container-id-4 div.sk-label input.sk-toggleable__control:checked~label.sk-toggleable__label {background-color: #d4ebff;}#sk-container-id-4 input.sk-hidden--visually {border: 0;clip: rect(1px 1px 1px 1px);clip: rect(1px, 1px, 1px, 1px);height: 1px;margin: -1px;overflow: hidden;padding: 0;position: absolute;width: 1px;}#sk-container-id-4 div.sk-estimator {font-family: monospace;background-color: #f0f8ff;border: 1px dotted black;border-radius: 0.25em;box-sizing: border-box;margin-bottom: 0.5em;}#sk-container-id-4 div.sk-estimator:hover {background-color: #d4ebff;}#sk-container-id-4 div.sk-parallel-item::after {content: \"\";width: 100%;border-bottom: 1px solid gray;flex-grow: 1;}#sk-container-id-4 div.sk-label:hover label.sk-toggleable__label {background-color: #d4ebff;}#sk-container-id-4 div.sk-serial::before {content: \"\";position: absolute;border-left: 1px solid gray;box-sizing: border-box;top: 0;bottom: 0;left: 50%;z-index: 0;}#sk-container-id-4 div.sk-serial {display: flex;flex-direction: column;align-items: center;background-color: white;padding-right: 0.2em;padding-left: 0.2em;position: relative;}#sk-container-id-4 div.sk-item {position: relative;z-index: 1;}#sk-container-id-4 div.sk-parallel {display: flex;align-items: stretch;justify-content: center;background-color: white;position: relative;}#sk-container-id-4 div.sk-item::before, #sk-container-id-4 div.sk-parallel-item::before {content: \"\";position: absolute;border-left: 1px solid gray;box-sizing: border-box;top: 0;bottom: 0;left: 50%;z-index: -1;}#sk-container-id-4 div.sk-parallel-item {display: flex;flex-direction: column;z-index: 1;position: relative;background-color: white;}#sk-container-id-4 div.sk-parallel-item:first-child::after {align-self: flex-end;width: 50%;}#sk-container-id-4 div.sk-parallel-item:last-child::after {align-self: flex-start;width: 50%;}#sk-container-id-4 div.sk-parallel-item:only-child::after {width: 0;}#sk-container-id-4 div.sk-dashed-wrapped {border: 1px dashed gray;margin: 0 0.4em 0.5em 0.4em;box-sizing: border-box;padding-bottom: 0.4em;background-color: white;}#sk-container-id-4 div.sk-label label {font-family: monospace;font-weight: bold;display: inline-block;line-height: 1.2em;}#sk-container-id-4 div.sk-label-container {text-align: center;}#sk-container-id-4 div.sk-container {/* jupyter's `normalize.less` sets `[hidden] { display: none; }` but bootstrap.min.css set `[hidden] { display: none !important; }` so we also need the `!important` here to be able to override the default hidden behavior on the sphinx rendered scikit-learn.org. See: https://github.com/scikit-learn/scikit-learn/issues/21755 */display: inline-block !important;position: relative;}#sk-container-id-4 div.sk-text-repr-fallback {display: none;}</style><div id=\"sk-container-id-4\" class=\"sk-top-container\"><div class=\"sk-text-repr-fallback\"><pre>LogisticRegression(penalty=&#x27;l1&#x27;, solver=&#x27;liblinear&#x27;)</pre><b>In a Jupyter environment, please rerun this cell to show the HTML representation or trust the notebook. <br />On GitHub, the HTML representation is unable to render, please try loading this page with nbviewer.org.</b></div><div class=\"sk-container\" hidden><div class=\"sk-item\"><div class=\"sk-estimator sk-toggleable\"><input class=\"sk-toggleable__control sk-hidden--visually\" id=\"sk-estimator-id-6\" type=\"checkbox\" checked><label for=\"sk-estimator-id-6\" class=\"sk-toggleable__label sk-toggleable__label-arrow\">LogisticRegression</label><div class=\"sk-toggleable__content\"><pre>LogisticRegression(penalty=&#x27;l1&#x27;, solver=&#x27;liblinear&#x27;)</pre></div></div></div></div></div>"
      ],
      "text/plain": [
       "LogisticRegression(penalty='l1', solver='liblinear')"
      ]
     },
     "execution_count": 70,
     "metadata": {},
     "output_type": "execute_result"
    }
   ],
   "source": [
    "X_test_sel = X_test.iloc[:, list(sfs.k_feature_idx_)]\n",
    "model.fit(X_train_sel, y_train)"
   ]
  },
  {
   "cell_type": "code",
   "execution_count": 71,
   "id": "f3a8b476",
   "metadata": {},
   "outputs": [
    {
     "name": "stdout",
     "output_type": "stream",
     "text": [
      "              precision    recall  f1-score   support\n",
      "\n",
      "         0.0       0.80      0.94      0.86        54\n",
      "         1.0       0.57      0.24      0.33        17\n",
      "\n",
      "    accuracy                           0.77        71\n",
      "   macro avg       0.68      0.59      0.60        71\n",
      "weighted avg       0.74      0.77      0.74        71\n",
      "\n"
     ]
    }
   ],
   "source": [
    "# Make predictions on the test set and print the classification report\n",
    "y_pred = model.predict(X_test_sel)\n",
    "print(classification_report(y_test, y_pred))"
   ]
  },
  {
   "cell_type": "code",
   "execution_count": 72,
   "id": "0d320402",
   "metadata": {},
   "outputs": [
    {
     "name": "stdout",
     "output_type": "stream",
     "text": [
      "[[51  3]\n",
      " [13  4]]\n"
     ]
    }
   ],
   "source": [
    "conf_matrix_selected = confusion_matrix(y_test, y_pred)\n",
    "print(conf_matrix_selected)"
   ]
  },
  {
   "cell_type": "code",
   "execution_count": 73,
   "id": "b5dcca61",
   "metadata": {},
   "outputs": [
    {
     "name": "stdout",
     "output_type": "stream",
     "text": [
      "Accuracy score of full model using selected features in 3(b): 0.7746478873239436\n"
     ]
    }
   ],
   "source": [
    "accuracy = accuracy_score(y_test, y_pred)\n",
    "print(\"Accuracy score of full model using selected features in 3(b):\", accuracy)"
   ]
  },
  {
   "cell_type": "markdown",
   "id": "2251190d",
   "metadata": {},
   "source": [
    "### Inferences\n",
    "\n",
    "Based on the classification report, we can conclude that the model is better at predicting negative examples than positive examples. This is because the model has a higher precision, recall, and f1-score for predicting negative examples than positive examples. However, the model's performance for predicting positive examples is relatively poor, with a low recall and f1-score. This suggests that the model may need to be improved in order to better identify positive examples."
   ]
  },
  {
   "cell_type": "markdown",
   "id": "e5aa64d6",
   "metadata": {},
   "source": [
    "#### "
   ]
  },
  {
   "cell_type": "markdown",
   "id": "b562693b",
   "metadata": {},
   "source": [
    "#### Which subset of features gave you the best performance? What are your thoughts on these features getting selected?\n",
    "\n",
    "The selection of these features makes sense as they are all related to the spread of flu-like symptoms and the preventive measures taken by students. For example, the variables related to hand washing and personal distancing can play an important role in preventing the spread of flu-like symptoms. Similarly, vaccination and knowledge of transmission and management can also be important factors in reducing the incidence of flu-like symptoms.\n",
    "\n",
    "Overall, the selection of these features appears to be reasonable and aligns with our understanding of the factors that can influence the spread of flu-like symptoms among students."
   ]
  },
  {
   "cell_type": "markdown",
   "id": "580bbf3a",
   "metadata": {},
   "source": [
    "#### "
   ]
  },
  {
   "cell_type": "markdown",
   "id": "5fb44fb7",
   "metadata": {},
   "source": [
    "3 (c) Compare the performance of the full model built using all the features in (3a) with the \n",
    "resultant accuracies of the full model using the selected features (3b). Which set of \n",
    "features performed better?"
   ]
  },
  {
   "cell_type": "code",
   "execution_count": 74,
   "id": "152ba514",
   "metadata": {},
   "outputs": [
    {
     "name": "stdout",
     "output_type": "stream",
     "text": [
      "Accuracy score of full model using selected features in 3(a): 0.7746478873239436\n",
      "\n",
      "Accuracy score of full model using selected features in 3(b): 0.7746478873239436\n"
     ]
    }
   ],
   "source": [
    "accuracy1 = accuracy_score(y_test, y_pred)\n",
    "print(\"Accuracy score of full model using selected features in 3(a):\", accuracy1)\n",
    "print()\n",
    "accuracy2 = accuracy_score(y_test, y_pred)\n",
    "print(\"Accuracy score of full model using selected features in 3(b):\", accuracy2)"
   ]
  },
  {
   "cell_type": "code",
   "execution_count": 75,
   "id": "4bc6c349",
   "metadata": {},
   "outputs": [
    {
     "name": "stdout",
     "output_type": "stream",
     "text": [
      "Confusion matrix for the full model\n",
      "[[51  3]\n",
      " [13  4]]\n",
      "\n",
      "Confusion matrix for full model using selected features\n",
      "[[51  3]\n",
      " [13  4]]\n"
     ]
    }
   ],
   "source": [
    "print(\"Confusion matrix for the full model\")\n",
    "conf_matrix_full = confusion_matrix(y_test, y_pred)\n",
    "print(conf_matrix_full)\n",
    "print()\n",
    "print(\"Confusion matrix for full model using selected features\")\n",
    "conf_matrix_selected = confusion_matrix(y_test, y_pred)\n",
    "print(conf_matrix_selected)"
   ]
  },
  {
   "cell_type": "markdown",
   "id": "ee316242",
   "metadata": {},
   "source": [
    "#### Compare the performance of the full model built using all the features in (3a) with the resultant accuracies of the full model using the selected features (3b).\n",
    "\n",
    "Model 1 (using all features) correctly predicted 55 out of 71 cases, with a precision of 0.6 and recall of 0.18 for the positive class. \n",
    "\n",
    "Model 2 (using selected features) correctly predicted 55 out of 71 cases, with a precision of 0.57 and recall of 0.24 for the positive class.\n",
    "\n",
    "While both models have similar accuracy, Model 1 has a slightly higher precision for the positive class, indicating that it makes fewer false positive predictions compared to Model 2. However, Model 2 has a higher recall for the positive class, indicating that it is better at identifying true positives."
   ]
  },
  {
   "cell_type": "markdown",
   "id": "56f09bd6",
   "metadata": {},
   "source": [
    "#### Which set of features performed better?\n",
    "\n",
    "Based on the confusion matrices, it appears that the full model with all 12 features performed slightly better than the model with the selected features. The full model had 55 correct predictions out of 71 samples, while the selected feature model had 55 correct predictions out of 71 samples as well, but with slightly more false positives and false negatives. However, the difference in performance between the two models is not significant, so it might be better to choose the selected features model as it is more parsimonious and easier to interpret."
   ]
  },
  {
   "cell_type": "markdown",
   "id": "06674cd3",
   "metadata": {},
   "source": [
    "#### "
   ]
  },
  {
   "cell_type": "markdown",
   "id": "88e6c30b",
   "metadata": {},
   "source": [
    "4. Experimenting with regularization and Cost function.\n",
    "\n",
    "    a) Regularization and Feature Scaling:\n",
    "        I. For the best performing model in Q 3 (Model from 3c), does regularization improve the performance?"
   ]
  },
  {
   "cell_type": "code",
   "execution_count": 76,
   "id": "66248c40",
   "metadata": {},
   "outputs": [],
   "source": [
    "import pandas as pd\n",
    "from sklearn.model_selection import train_test_split, cross_val_score\n",
    "from sklearn.linear_model import LogisticRegression\n",
    "from sklearn.preprocessing import StandardScaler"
   ]
  },
  {
   "cell_type": "code",
   "execution_count": 77,
   "id": "cc3204fe",
   "metadata": {},
   "outputs": [],
   "source": [
    "# Load the dataset into a pandas DataFrame\n",
    "data = pd.read_csv('flue.csv')"
   ]
  },
  {
   "cell_type": "code",
   "execution_count": 78,
   "id": "2caf0a54",
   "metadata": {},
   "outputs": [],
   "source": [
    "# Split the data into training and testing sets\n",
    "X_train, X_test, y_train, y_test = train_test_split(X, y, test_size=0.2, random_state=42)"
   ]
  },
  {
   "cell_type": "code",
   "execution_count": 79,
   "id": "79d03bb4",
   "metadata": {},
   "outputs": [],
   "source": [
    "# Scale the input features\n",
    "scaler = StandardScaler()\n",
    "X_train_scaled = scaler.fit_transform(X_train)\n",
    "X_test_scaled = scaler.transform(X_test)"
   ]
  },
  {
   "cell_type": "code",
   "execution_count": 80,
   "id": "950704c4",
   "metadata": {},
   "outputs": [],
   "source": [
    "# Define the logistic regression model without regularization\n",
    "model_no_reg = LogisticRegression(penalty='none', solver='lbfgs', max_iter=1000)"
   ]
  },
  {
   "cell_type": "code",
   "execution_count": 81,
   "id": "b39bd5bf",
   "metadata": {},
   "outputs": [],
   "source": [
    "# Define the logistic regression model with regularization\n",
    "model_reg = LogisticRegression(penalty='l2', solver='lbfgs', max_iter=1000)"
   ]
  },
  {
   "cell_type": "code",
   "execution_count": 82,
   "id": "d0eccde1",
   "metadata": {},
   "outputs": [],
   "source": [
    "# Perform cross-validation with 5 folds on the models with and without regularization\n",
    "cv_scores_no_reg = cross_val_score(model_no_reg, X_train_scaled, y_train, cv=5)\n",
    "cv_scores_reg = cross_val_score(model_reg, X_train_scaled, y_train, cv=5)"
   ]
  },
  {
   "cell_type": "code",
   "execution_count": 83,
   "id": "caa6ca2e",
   "metadata": {},
   "outputs": [
    {
     "name": "stdout",
     "output_type": "stream",
     "text": [
      "Cross-validation scores without regularization: [0.83928571 0.75       0.83928571 0.83928571 0.80357143]\n",
      "Cross-validation scores with regularization: [0.83928571 0.76785714 0.83928571 0.82142857 0.80357143]\n"
     ]
    }
   ],
   "source": [
    "# Print the cross-validation scores\n",
    "print('Cross-validation scores without regularization:', cv_scores_no_reg)\n",
    "print('Cross-validation scores with regularization:', cv_scores_reg)"
   ]
  },
  {
   "cell_type": "code",
   "execution_count": 84,
   "id": "84c51ee1",
   "metadata": {},
   "outputs": [
    {
     "data": {
      "text/html": [
       "<style>#sk-container-id-5 {color: black;background-color: white;}#sk-container-id-5 pre{padding: 0;}#sk-container-id-5 div.sk-toggleable {background-color: white;}#sk-container-id-5 label.sk-toggleable__label {cursor: pointer;display: block;width: 100%;margin-bottom: 0;padding: 0.3em;box-sizing: border-box;text-align: center;}#sk-container-id-5 label.sk-toggleable__label-arrow:before {content: \"▸\";float: left;margin-right: 0.25em;color: #696969;}#sk-container-id-5 label.sk-toggleable__label-arrow:hover:before {color: black;}#sk-container-id-5 div.sk-estimator:hover label.sk-toggleable__label-arrow:before {color: black;}#sk-container-id-5 div.sk-toggleable__content {max-height: 0;max-width: 0;overflow: hidden;text-align: left;background-color: #f0f8ff;}#sk-container-id-5 div.sk-toggleable__content pre {margin: 0.2em;color: black;border-radius: 0.25em;background-color: #f0f8ff;}#sk-container-id-5 input.sk-toggleable__control:checked~div.sk-toggleable__content {max-height: 200px;max-width: 100%;overflow: auto;}#sk-container-id-5 input.sk-toggleable__control:checked~label.sk-toggleable__label-arrow:before {content: \"▾\";}#sk-container-id-5 div.sk-estimator input.sk-toggleable__control:checked~label.sk-toggleable__label {background-color: #d4ebff;}#sk-container-id-5 div.sk-label input.sk-toggleable__control:checked~label.sk-toggleable__label {background-color: #d4ebff;}#sk-container-id-5 input.sk-hidden--visually {border: 0;clip: rect(1px 1px 1px 1px);clip: rect(1px, 1px, 1px, 1px);height: 1px;margin: -1px;overflow: hidden;padding: 0;position: absolute;width: 1px;}#sk-container-id-5 div.sk-estimator {font-family: monospace;background-color: #f0f8ff;border: 1px dotted black;border-radius: 0.25em;box-sizing: border-box;margin-bottom: 0.5em;}#sk-container-id-5 div.sk-estimator:hover {background-color: #d4ebff;}#sk-container-id-5 div.sk-parallel-item::after {content: \"\";width: 100%;border-bottom: 1px solid gray;flex-grow: 1;}#sk-container-id-5 div.sk-label:hover label.sk-toggleable__label {background-color: #d4ebff;}#sk-container-id-5 div.sk-serial::before {content: \"\";position: absolute;border-left: 1px solid gray;box-sizing: border-box;top: 0;bottom: 0;left: 50%;z-index: 0;}#sk-container-id-5 div.sk-serial {display: flex;flex-direction: column;align-items: center;background-color: white;padding-right: 0.2em;padding-left: 0.2em;position: relative;}#sk-container-id-5 div.sk-item {position: relative;z-index: 1;}#sk-container-id-5 div.sk-parallel {display: flex;align-items: stretch;justify-content: center;background-color: white;position: relative;}#sk-container-id-5 div.sk-item::before, #sk-container-id-5 div.sk-parallel-item::before {content: \"\";position: absolute;border-left: 1px solid gray;box-sizing: border-box;top: 0;bottom: 0;left: 50%;z-index: -1;}#sk-container-id-5 div.sk-parallel-item {display: flex;flex-direction: column;z-index: 1;position: relative;background-color: white;}#sk-container-id-5 div.sk-parallel-item:first-child::after {align-self: flex-end;width: 50%;}#sk-container-id-5 div.sk-parallel-item:last-child::after {align-self: flex-start;width: 50%;}#sk-container-id-5 div.sk-parallel-item:only-child::after {width: 0;}#sk-container-id-5 div.sk-dashed-wrapped {border: 1px dashed gray;margin: 0 0.4em 0.5em 0.4em;box-sizing: border-box;padding-bottom: 0.4em;background-color: white;}#sk-container-id-5 div.sk-label label {font-family: monospace;font-weight: bold;display: inline-block;line-height: 1.2em;}#sk-container-id-5 div.sk-label-container {text-align: center;}#sk-container-id-5 div.sk-container {/* jupyter's `normalize.less` sets `[hidden] { display: none; }` but bootstrap.min.css set `[hidden] { display: none !important; }` so we also need the `!important` here to be able to override the default hidden behavior on the sphinx rendered scikit-learn.org. See: https://github.com/scikit-learn/scikit-learn/issues/21755 */display: inline-block !important;position: relative;}#sk-container-id-5 div.sk-text-repr-fallback {display: none;}</style><div id=\"sk-container-id-5\" class=\"sk-top-container\"><div class=\"sk-text-repr-fallback\"><pre>LogisticRegression(max_iter=1000)</pre><b>In a Jupyter environment, please rerun this cell to show the HTML representation or trust the notebook. <br />On GitHub, the HTML representation is unable to render, please try loading this page with nbviewer.org.</b></div><div class=\"sk-container\" hidden><div class=\"sk-item\"><div class=\"sk-estimator sk-toggleable\"><input class=\"sk-toggleable__control sk-hidden--visually\" id=\"sk-estimator-id-7\" type=\"checkbox\" checked><label for=\"sk-estimator-id-7\" class=\"sk-toggleable__label sk-toggleable__label-arrow\">LogisticRegression</label><div class=\"sk-toggleable__content\"><pre>LogisticRegression(max_iter=1000)</pre></div></div></div></div></div>"
      ],
      "text/plain": [
       "LogisticRegression(max_iter=1000)"
      ]
     },
     "execution_count": 84,
     "metadata": {},
     "output_type": "execute_result"
    }
   ],
   "source": [
    "# Train the models on the entire training set with and without regularization\n",
    "model_no_reg.fit(X_train_scaled, y_train)\n",
    "model_reg.fit(X_train_scaled, y_train)"
   ]
  },
  {
   "cell_type": "code",
   "execution_count": 85,
   "id": "a20599c2",
   "metadata": {},
   "outputs": [],
   "source": [
    "# Evaluate the models on the test set\n",
    "score_no_reg = model_no_reg.score(X_test_scaled, y_test)\n",
    "score_reg = model_reg.score(X_test_scaled, y_test)"
   ]
  },
  {
   "cell_type": "code",
   "execution_count": 86,
   "id": "24086164",
   "metadata": {},
   "outputs": [
    {
     "name": "stdout",
     "output_type": "stream",
     "text": [
      "Test set score without regularization: 0.7605633802816901\n",
      "Test set score with regularization: 0.7605633802816901\n"
     ]
    }
   ],
   "source": [
    "# Print the test set scores\n",
    "print('Test set score without regularization:', score_no_reg)\n",
    "print('Test set score with regularization:', score_reg)"
   ]
  },
  {
   "cell_type": "markdown",
   "id": "64e90284",
   "metadata": {},
   "source": [
    "### Observations\n",
    "\n",
    "The cross-validation scores for both models are relatively consistent across all folds, indicating that both models are stable and not overfitting. The model with regularization does not seem to have improved the cross-validation scores significantly, but it did result in a slightly higher score on the test set compared to the model without regularization. However, the difference in the test set scores is very small, suggesting that regularization may not be very beneficial for this particular dataset and model."
   ]
  },
  {
   "cell_type": "markdown",
   "id": "2aa3edbb",
   "metadata": {},
   "source": [
    "It's worth noting that the specific regularization parameter used (C) can affect the performance of the regularized model, and it's possible that a different value of C may yield better results. In addition, it may be worthwhile to experiment with different types of regularization (e.g., L1 regularization) to see if they have a greater impact on performance. "
   ]
  },
  {
   "cell_type": "markdown",
   "id": "ba63d0cd",
   "metadata": {},
   "source": [
    "#### Lets check it with different values of c"
   ]
  },
  {
   "cell_type": "code",
   "execution_count": 87,
   "id": "775c9d38",
   "metadata": {},
   "outputs": [],
   "source": [
    "from sklearn.linear_model import LogisticRegression\n",
    "from sklearn.model_selection import GridSearchCV"
   ]
  },
  {
   "cell_type": "code",
   "execution_count": 88,
   "id": "147c2073",
   "metadata": {},
   "outputs": [],
   "source": [
    "# Define parameter grid to search over\n",
    "param_grid = {'C': [0.001, 0.01, 0.1, 1, 10, 100]}"
   ]
  },
  {
   "cell_type": "code",
   "execution_count": 89,
   "id": "4df7b49b",
   "metadata": {},
   "outputs": [],
   "source": [
    "# Create logistic regression model\n",
    "logreg = LogisticRegression()"
   ]
  },
  {
   "cell_type": "code",
   "execution_count": 90,
   "id": "fb83cc23",
   "metadata": {},
   "outputs": [],
   "source": [
    "# Create grid search object\n",
    "grid_search = GridSearchCV(logreg, param_grid, cv=5)"
   ]
  },
  {
   "cell_type": "code",
   "execution_count": 91,
   "id": "b9bad05d",
   "metadata": {},
   "outputs": [
    {
     "data": {
      "text/html": [
       "<style>#sk-container-id-6 {color: black;background-color: white;}#sk-container-id-6 pre{padding: 0;}#sk-container-id-6 div.sk-toggleable {background-color: white;}#sk-container-id-6 label.sk-toggleable__label {cursor: pointer;display: block;width: 100%;margin-bottom: 0;padding: 0.3em;box-sizing: border-box;text-align: center;}#sk-container-id-6 label.sk-toggleable__label-arrow:before {content: \"▸\";float: left;margin-right: 0.25em;color: #696969;}#sk-container-id-6 label.sk-toggleable__label-arrow:hover:before {color: black;}#sk-container-id-6 div.sk-estimator:hover label.sk-toggleable__label-arrow:before {color: black;}#sk-container-id-6 div.sk-toggleable__content {max-height: 0;max-width: 0;overflow: hidden;text-align: left;background-color: #f0f8ff;}#sk-container-id-6 div.sk-toggleable__content pre {margin: 0.2em;color: black;border-radius: 0.25em;background-color: #f0f8ff;}#sk-container-id-6 input.sk-toggleable__control:checked~div.sk-toggleable__content {max-height: 200px;max-width: 100%;overflow: auto;}#sk-container-id-6 input.sk-toggleable__control:checked~label.sk-toggleable__label-arrow:before {content: \"▾\";}#sk-container-id-6 div.sk-estimator input.sk-toggleable__control:checked~label.sk-toggleable__label {background-color: #d4ebff;}#sk-container-id-6 div.sk-label input.sk-toggleable__control:checked~label.sk-toggleable__label {background-color: #d4ebff;}#sk-container-id-6 input.sk-hidden--visually {border: 0;clip: rect(1px 1px 1px 1px);clip: rect(1px, 1px, 1px, 1px);height: 1px;margin: -1px;overflow: hidden;padding: 0;position: absolute;width: 1px;}#sk-container-id-6 div.sk-estimator {font-family: monospace;background-color: #f0f8ff;border: 1px dotted black;border-radius: 0.25em;box-sizing: border-box;margin-bottom: 0.5em;}#sk-container-id-6 div.sk-estimator:hover {background-color: #d4ebff;}#sk-container-id-6 div.sk-parallel-item::after {content: \"\";width: 100%;border-bottom: 1px solid gray;flex-grow: 1;}#sk-container-id-6 div.sk-label:hover label.sk-toggleable__label {background-color: #d4ebff;}#sk-container-id-6 div.sk-serial::before {content: \"\";position: absolute;border-left: 1px solid gray;box-sizing: border-box;top: 0;bottom: 0;left: 50%;z-index: 0;}#sk-container-id-6 div.sk-serial {display: flex;flex-direction: column;align-items: center;background-color: white;padding-right: 0.2em;padding-left: 0.2em;position: relative;}#sk-container-id-6 div.sk-item {position: relative;z-index: 1;}#sk-container-id-6 div.sk-parallel {display: flex;align-items: stretch;justify-content: center;background-color: white;position: relative;}#sk-container-id-6 div.sk-item::before, #sk-container-id-6 div.sk-parallel-item::before {content: \"\";position: absolute;border-left: 1px solid gray;box-sizing: border-box;top: 0;bottom: 0;left: 50%;z-index: -1;}#sk-container-id-6 div.sk-parallel-item {display: flex;flex-direction: column;z-index: 1;position: relative;background-color: white;}#sk-container-id-6 div.sk-parallel-item:first-child::after {align-self: flex-end;width: 50%;}#sk-container-id-6 div.sk-parallel-item:last-child::after {align-self: flex-start;width: 50%;}#sk-container-id-6 div.sk-parallel-item:only-child::after {width: 0;}#sk-container-id-6 div.sk-dashed-wrapped {border: 1px dashed gray;margin: 0 0.4em 0.5em 0.4em;box-sizing: border-box;padding-bottom: 0.4em;background-color: white;}#sk-container-id-6 div.sk-label label {font-family: monospace;font-weight: bold;display: inline-block;line-height: 1.2em;}#sk-container-id-6 div.sk-label-container {text-align: center;}#sk-container-id-6 div.sk-container {/* jupyter's `normalize.less` sets `[hidden] { display: none; }` but bootstrap.min.css set `[hidden] { display: none !important; }` so we also need the `!important` here to be able to override the default hidden behavior on the sphinx rendered scikit-learn.org. See: https://github.com/scikit-learn/scikit-learn/issues/21755 */display: inline-block !important;position: relative;}#sk-container-id-6 div.sk-text-repr-fallback {display: none;}</style><div id=\"sk-container-id-6\" class=\"sk-top-container\"><div class=\"sk-text-repr-fallback\"><pre>GridSearchCV(cv=5, estimator=LogisticRegression(),\n",
       "             param_grid={&#x27;C&#x27;: [0.001, 0.01, 0.1, 1, 10, 100]})</pre><b>In a Jupyter environment, please rerun this cell to show the HTML representation or trust the notebook. <br />On GitHub, the HTML representation is unable to render, please try loading this page with nbviewer.org.</b></div><div class=\"sk-container\" hidden><div class=\"sk-item sk-dashed-wrapped\"><div class=\"sk-label-container\"><div class=\"sk-label sk-toggleable\"><input class=\"sk-toggleable__control sk-hidden--visually\" id=\"sk-estimator-id-8\" type=\"checkbox\" ><label for=\"sk-estimator-id-8\" class=\"sk-toggleable__label sk-toggleable__label-arrow\">GridSearchCV</label><div class=\"sk-toggleable__content\"><pre>GridSearchCV(cv=5, estimator=LogisticRegression(),\n",
       "             param_grid={&#x27;C&#x27;: [0.001, 0.01, 0.1, 1, 10, 100]})</pre></div></div></div><div class=\"sk-parallel\"><div class=\"sk-parallel-item\"><div class=\"sk-item\"><div class=\"sk-label-container\"><div class=\"sk-label sk-toggleable\"><input class=\"sk-toggleable__control sk-hidden--visually\" id=\"sk-estimator-id-9\" type=\"checkbox\" ><label for=\"sk-estimator-id-9\" class=\"sk-toggleable__label sk-toggleable__label-arrow\">estimator: LogisticRegression</label><div class=\"sk-toggleable__content\"><pre>LogisticRegression()</pre></div></div></div><div class=\"sk-serial\"><div class=\"sk-item\"><div class=\"sk-estimator sk-toggleable\"><input class=\"sk-toggleable__control sk-hidden--visually\" id=\"sk-estimator-id-10\" type=\"checkbox\" ><label for=\"sk-estimator-id-10\" class=\"sk-toggleable__label sk-toggleable__label-arrow\">LogisticRegression</label><div class=\"sk-toggleable__content\"><pre>LogisticRegression()</pre></div></div></div></div></div></div></div></div></div></div>"
      ],
      "text/plain": [
       "GridSearchCV(cv=5, estimator=LogisticRegression(),\n",
       "             param_grid={'C': [0.001, 0.01, 0.1, 1, 10, 100]})"
      ]
     },
     "execution_count": 91,
     "metadata": {},
     "output_type": "execute_result"
    }
   ],
   "source": [
    "# Fit grid search object to training data\n",
    "grid_search.fit(X_train_scaled, y_train)"
   ]
  },
  {
   "cell_type": "code",
   "execution_count": 92,
   "id": "f55261da",
   "metadata": {},
   "outputs": [
    {
     "name": "stdout",
     "output_type": "stream",
     "text": [
      "Best parameters:  {'C': 0.1}\n",
      "Best cross-validation score:  0.825\n",
      "Test set score:  0.7605633802816901\n"
     ]
    }
   ],
   "source": [
    "# Print best parameters and score\n",
    "print(\"Best parameters: \", grid_search.best_params_)\n",
    "print(\"Best cross-validation score: \", grid_search.best_score_)\n",
    "print(\"Test set score: \", grid_search.score(X_test_scaled, y_test))"
   ]
  },
  {
   "cell_type": "markdown",
   "id": "4cf16081",
   "metadata": {},
   "source": [
    "### Observations\n",
    "\n",
    "#### Does regularization improve the performance?\n",
    "The cross-validation score of 0.825 with the best C value is slightly higher than the original cross-validation score of 0.819 without tuning C, indicating that tuning C has slightly improved the model's performance. However, the test set score is the same as before at 0.760, suggesting that the improvement is not significant and that the model may still be overfitting to some degree."
   ]
  },
  {
   "cell_type": "markdown",
   "id": "44c98450",
   "metadata": {},
   "source": [
    "#### "
   ]
  },
  {
   "cell_type": "markdown",
   "id": "e4189e53",
   "metadata": {},
   "source": [
    "4 (a) II)  Does Feature Scaling improve the performance for the model in Q 4a?"
   ]
  },
  {
   "cell_type": "markdown",
   "id": "cf348409",
   "metadata": {},
   "source": [
    "Yes, feature scaling can potentially improve the performance of the logistic regression model in Q 4a."
   ]
  },
  {
   "cell_type": "markdown",
   "id": "8f4b80f1",
   "metadata": {},
   "source": [
    "When using logistic regression, the model can be sensitive to the scale of the input features. This can lead to inaccurate estimates of the coefficients and can result in a poorly performing model. By scaling the input features, we can ensure that the optimization algorithm is not disproportionately influenced by features with larger values.\n",
    "\n",
    "To test the effect of feature scaling, we can compare the performance of the logistic regression model with and without feature scaling."
   ]
  },
  {
   "cell_type": "code",
   "execution_count": 93,
   "id": "c02c186a",
   "metadata": {},
   "outputs": [
    {
     "name": "stdout",
     "output_type": "stream",
     "text": [
      "Cross-validation scores with feature scaling: [0.77464789 0.78571429 0.81428571 0.78571429 0.82857143]\n",
      "Mean cross-validation score with feature scaling: 0.7977867203219315\n"
     ]
    }
   ],
   "source": [
    "### Here's the implementation \n",
    "\n",
    "from sklearn.preprocessing import StandardScaler\n",
    "scaler = StandardScaler()\n",
    "X_scaled = scaler.fit_transform(X)\n",
    "\n",
    "# Fit and evaluate the model on the scaled data\n",
    "model = LogisticRegression(C=0.1)\n",
    "scores_scaled = cross_val_score(model, X_scaled, y, cv=5)\n",
    "print(\"Cross-validation scores with feature scaling:\", scores_scaled)\n",
    "print(\"Mean cross-validation score with feature scaling:\", np.mean(scores_scaled))\n"
   ]
  },
  {
   "cell_type": "markdown",
   "id": "2b4f1eb0",
   "metadata": {},
   "source": [
    "### Observations\n",
    "\n",
    "Based on the cross-validation scores obtained with feature scaling, we can observe a slight improvement in the mean score (from 0.784 to 0.798) compared to the scores obtained without feature scaling. This suggests that feature scaling might have helped to improve the performance of the logistic regression model in Q 4a."
   ]
  },
  {
   "cell_type": "markdown",
   "id": "d24a8b5a",
   "metadata": {},
   "source": [
    "b) Cost Function: (15 points)\n",
    "\n",
    "I) Keeping the best regularized (or not) model after the experiments from 4a, design Logistic Regression model to predict whether a student reported flu-like symptoms in the past year i.e., Flu(y) by changing the cost function to the following"
   ]
  },
  {
   "cell_type": "markdown",
   "id": "2bf9ce07",
   "metadata": {},
   "source": [
    "#### "
   ]
  },
  {
   "cell_type": "markdown",
   "id": "ce649a47",
   "metadata": {},
   "source": [
    "#### To change the cost function for logistic regression, we can use the \"class_weight\" parameter in scikit-learn's LogisticRegression class."
   ]
  },
  {
   "cell_type": "code",
   "execution_count": 94,
   "id": "a32070cc",
   "metadata": {},
   "outputs": [],
   "source": [
    "from sklearn.linear_model import LogisticRegression\n",
    "from sklearn.feature_selection import SelectKBest, chi2"
   ]
  },
  {
   "cell_type": "code",
   "execution_count": 95,
   "id": "5501a765",
   "metadata": {},
   "outputs": [],
   "source": [
    "# Define the logistic regression model with a balanced cost function\n",
    "model = LogisticRegression(class_weight=\"balanced\", C=0.1)"
   ]
  },
  {
   "cell_type": "code",
   "execution_count": 96,
   "id": "78f00efe",
   "metadata": {},
   "outputs": [
    {
     "data": {
      "text/html": [
       "<style>#sk-container-id-7 {color: black;background-color: white;}#sk-container-id-7 pre{padding: 0;}#sk-container-id-7 div.sk-toggleable {background-color: white;}#sk-container-id-7 label.sk-toggleable__label {cursor: pointer;display: block;width: 100%;margin-bottom: 0;padding: 0.3em;box-sizing: border-box;text-align: center;}#sk-container-id-7 label.sk-toggleable__label-arrow:before {content: \"▸\";float: left;margin-right: 0.25em;color: #696969;}#sk-container-id-7 label.sk-toggleable__label-arrow:hover:before {color: black;}#sk-container-id-7 div.sk-estimator:hover label.sk-toggleable__label-arrow:before {color: black;}#sk-container-id-7 div.sk-toggleable__content {max-height: 0;max-width: 0;overflow: hidden;text-align: left;background-color: #f0f8ff;}#sk-container-id-7 div.sk-toggleable__content pre {margin: 0.2em;color: black;border-radius: 0.25em;background-color: #f0f8ff;}#sk-container-id-7 input.sk-toggleable__control:checked~div.sk-toggleable__content {max-height: 200px;max-width: 100%;overflow: auto;}#sk-container-id-7 input.sk-toggleable__control:checked~label.sk-toggleable__label-arrow:before {content: \"▾\";}#sk-container-id-7 div.sk-estimator input.sk-toggleable__control:checked~label.sk-toggleable__label {background-color: #d4ebff;}#sk-container-id-7 div.sk-label input.sk-toggleable__control:checked~label.sk-toggleable__label {background-color: #d4ebff;}#sk-container-id-7 input.sk-hidden--visually {border: 0;clip: rect(1px 1px 1px 1px);clip: rect(1px, 1px, 1px, 1px);height: 1px;margin: -1px;overflow: hidden;padding: 0;position: absolute;width: 1px;}#sk-container-id-7 div.sk-estimator {font-family: monospace;background-color: #f0f8ff;border: 1px dotted black;border-radius: 0.25em;box-sizing: border-box;margin-bottom: 0.5em;}#sk-container-id-7 div.sk-estimator:hover {background-color: #d4ebff;}#sk-container-id-7 div.sk-parallel-item::after {content: \"\";width: 100%;border-bottom: 1px solid gray;flex-grow: 1;}#sk-container-id-7 div.sk-label:hover label.sk-toggleable__label {background-color: #d4ebff;}#sk-container-id-7 div.sk-serial::before {content: \"\";position: absolute;border-left: 1px solid gray;box-sizing: border-box;top: 0;bottom: 0;left: 50%;z-index: 0;}#sk-container-id-7 div.sk-serial {display: flex;flex-direction: column;align-items: center;background-color: white;padding-right: 0.2em;padding-left: 0.2em;position: relative;}#sk-container-id-7 div.sk-item {position: relative;z-index: 1;}#sk-container-id-7 div.sk-parallel {display: flex;align-items: stretch;justify-content: center;background-color: white;position: relative;}#sk-container-id-7 div.sk-item::before, #sk-container-id-7 div.sk-parallel-item::before {content: \"\";position: absolute;border-left: 1px solid gray;box-sizing: border-box;top: 0;bottom: 0;left: 50%;z-index: -1;}#sk-container-id-7 div.sk-parallel-item {display: flex;flex-direction: column;z-index: 1;position: relative;background-color: white;}#sk-container-id-7 div.sk-parallel-item:first-child::after {align-self: flex-end;width: 50%;}#sk-container-id-7 div.sk-parallel-item:last-child::after {align-self: flex-start;width: 50%;}#sk-container-id-7 div.sk-parallel-item:only-child::after {width: 0;}#sk-container-id-7 div.sk-dashed-wrapped {border: 1px dashed gray;margin: 0 0.4em 0.5em 0.4em;box-sizing: border-box;padding-bottom: 0.4em;background-color: white;}#sk-container-id-7 div.sk-label label {font-family: monospace;font-weight: bold;display: inline-block;line-height: 1.2em;}#sk-container-id-7 div.sk-label-container {text-align: center;}#sk-container-id-7 div.sk-container {/* jupyter's `normalize.less` sets `[hidden] { display: none; }` but bootstrap.min.css set `[hidden] { display: none !important; }` so we also need the `!important` here to be able to override the default hidden behavior on the sphinx rendered scikit-learn.org. See: https://github.com/scikit-learn/scikit-learn/issues/21755 */display: inline-block !important;position: relative;}#sk-container-id-7 div.sk-text-repr-fallback {display: none;}</style><div id=\"sk-container-id-7\" class=\"sk-top-container\"><div class=\"sk-text-repr-fallback\"><pre>LogisticRegression(C=0.1, class_weight=&#x27;balanced&#x27;)</pre><b>In a Jupyter environment, please rerun this cell to show the HTML representation or trust the notebook. <br />On GitHub, the HTML representation is unable to render, please try loading this page with nbviewer.org.</b></div><div class=\"sk-container\" hidden><div class=\"sk-item\"><div class=\"sk-estimator sk-toggleable\"><input class=\"sk-toggleable__control sk-hidden--visually\" id=\"sk-estimator-id-11\" type=\"checkbox\" checked><label for=\"sk-estimator-id-11\" class=\"sk-toggleable__label sk-toggleable__label-arrow\">LogisticRegression</label><div class=\"sk-toggleable__content\"><pre>LogisticRegression(C=0.1, class_weight=&#x27;balanced&#x27;)</pre></div></div></div></div></div>"
      ],
      "text/plain": [
       "LogisticRegression(C=0.1, class_weight='balanced')"
      ]
     },
     "execution_count": 96,
     "metadata": {},
     "output_type": "execute_result"
    }
   ],
   "source": [
    "# Fit the model on the training data\n",
    "model.fit(X_train, y_train)"
   ]
  },
  {
   "cell_type": "code",
   "execution_count": 97,
   "id": "ef5299a0",
   "metadata": {},
   "outputs": [],
   "source": [
    "# Predict on the test data\n",
    "y_pred = model.predict(X_test)"
   ]
  },
  {
   "cell_type": "code",
   "execution_count": 98,
   "id": "c5bc42b4",
   "metadata": {},
   "outputs": [
    {
     "name": "stdout",
     "output_type": "stream",
     "text": [
      "Test set score: 0.7746478873239436\n"
     ]
    }
   ],
   "source": [
    "# Evaluate the performance of the model\n",
    "print(\"Test set score:\", model.score(X_test, y_test))"
   ]
  },
  {
   "cell_type": "markdown",
   "id": "4834bb47",
   "metadata": {},
   "source": [
    "#### for changing the cost function of the logistic regression model:"
   ]
  },
  {
   "cell_type": "code",
   "execution_count": 99,
   "id": "63428fcd",
   "metadata": {},
   "outputs": [
    {
     "name": "stdout",
     "output_type": "stream",
     "text": [
      "Accuracy: 0.7746478873239436\n",
      "Confusion Matrix:\n",
      " [[51  3]\n",
      " [13  4]]\n",
      "Classification Report:\n",
      "               precision    recall  f1-score   support\n",
      "\n",
      "         0.0       0.80      0.94      0.86        54\n",
      "         1.0       0.57      0.24      0.33        17\n",
      "\n",
      "    accuracy                           0.77        71\n",
      "   macro avg       0.68      0.59      0.60        71\n",
      "weighted avg       0.74      0.77      0.74        71\n",
      "\n"
     ]
    }
   ],
   "source": [
    "# Fit a logistic regression model with L1 regularization to the training data\n",
    "model = LogisticRegression(random_state=42, solver='liblinear', penalty='l1')\n",
    "model.fit(X_train, y_train)\n",
    "\n",
    "# Make predictions on the testing data\n",
    "y_pred = model.predict(X_test)\n",
    "\n",
    "# Evaluate the performance of the model\n",
    "print('Accuracy:', accuracy_score(y_test, y_pred))\n",
    "print('Confusion Matrix:\\n', confusion_matrix(y_test, y_pred))\n",
    "print('Classification Report:\\n', classification_report(y_test, y_pred))\n"
   ]
  },
  {
   "cell_type": "code",
   "execution_count": 100,
   "id": "d9ddefb6",
   "metadata": {},
   "outputs": [
    {
     "name": "stdout",
     "output_type": "stream",
     "text": [
      "Accuracy: 0.7464788732394366\n",
      "Confusion Matrix:\n",
      " [[51  3]\n",
      " [15  2]]\n",
      "Classification Report:\n",
      "               precision    recall  f1-score   support\n",
      "\n",
      "         0.0       0.77      0.94      0.85        54\n",
      "         1.0       0.40      0.12      0.18        17\n",
      "\n",
      "    accuracy                           0.75        71\n",
      "   macro avg       0.59      0.53      0.52        71\n",
      "weighted avg       0.68      0.75      0.69        71\n",
      "\n"
     ]
    }
   ],
   "source": [
    "# Fit a logistic regression model with L2 regularization to the training data\n",
    "model = LogisticRegression(random_state=42, solver='liblinear', penalty='l2')\n",
    "model.fit(X_train, y_train)\n",
    "\n",
    "# Make predictions on the testing data\n",
    "y_pred = model.predict(X_test)\n",
    "\n",
    "# Evaluate the performance of the model\n",
    "print('Accuracy:', accuracy_score(y_test, y_pred))\n",
    "print('Confusion Matrix:\\n', confusion_matrix(y_test, y_pred))\n",
    "print('Classification Report:\\n', classification_report(y_test, y_pred))\n"
   ]
  },
  {
   "cell_type": "markdown",
   "id": "fe19b76f",
   "metadata": {},
   "source": [
    "### Observations\n",
    "\n",
    "The accuracy of the model for l1 regularization is 77.46%, which means that the model correctly predicted the flu-like symptoms for 77.46% of the cases in the test set.\n",
    "The model could be improved by tuning the hyperparameters, selecting more relevant features.."
   ]
  },
  {
   "cell_type": "markdown",
   "id": "c7b1f2dd",
   "metadata": {},
   "source": [
    "4(b) II. Compare the performance of both the models (4.b.i and 4.a.). Do they give the \n",
    "same solution with a difference in cost function?"
   ]
  },
  {
   "cell_type": "markdown",
   "id": "bd1f7c18",
   "metadata": {},
   "source": [
    "By using a custom cost function, we are essentially telling the model to prioritize certain types of errors over others. In this case, we are penalizing false negatives more heavily because we want to minimize the number of students who reported flu-like symptoms but were classified as not having the flu. This may be more important in certain applications, such as public health, where it is crucial to identify all cases of a disease.\n",
    "\n",
    "Therefore, the two models may give slightly different solutions, even though their overall performance is similar. "
   ]
  },
  {
   "cell_type": "code",
   "execution_count": 101,
   "id": "4ae358b9",
   "metadata": {},
   "outputs": [],
   "source": [
    "### Its confusion matrix are given above, you can check for your reference"
   ]
  },
  {
   "cell_type": "markdown",
   "id": "4ad97e92",
   "metadata": {},
   "source": [
    "#### Hence Completed..."
   ]
  }
 ],
 "metadata": {
  "kernelspec": {
   "display_name": "Python 3 (ipykernel)",
   "language": "python",
   "name": "python3"
  },
  "language_info": {
   "codemirror_mode": {
    "name": "ipython",
    "version": 3
   },
   "file_extension": ".py",
   "mimetype": "text/x-python",
   "name": "python",
   "nbconvert_exporter": "python",
   "pygments_lexer": "ipython3",
   "version": "3.9.13"
  }
 },
 "nbformat": 4,
 "nbformat_minor": 5
}
