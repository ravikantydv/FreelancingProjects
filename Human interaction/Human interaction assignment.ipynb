{
 "cells": [
  {
   "cell_type": "markdown",
   "id": "5995d309",
   "metadata": {},
   "source": [
    "#### : Human Computer Interaction"
   ]
  },
  {
   "cell_type": "markdown",
   "id": "ef7a73fe",
   "metadata": {},
   "source": [
    "- time: contains several .csv files. Each csv contains the time taken by multiple users to\n",
    "complete that task. Each task consists of several steps. Rows represent users. Columns\n",
    "represent the task steps.\n",
    "\n",
    "- errors: contains a single csv file. The rows represent users, the columns represent the number\n",
    "of errors made by each user before completing a task.\n",
    "\n",
    "- crash: contains a single csv file. The rows represent users, the columns represent the number\n",
    "of the system crashes that occurred when the user was trying to complete a task."
   ]
  },
  {
   "cell_type": "markdown",
   "id": "ddc7cd46",
   "metadata": {},
   "source": [
    "1) Write the python code to read the dataset, and perform the following tasks"
   ]
  },
  {
   "cell_type": "code",
   "execution_count": 37,
   "id": "8d621fb5",
   "metadata": {},
   "outputs": [],
   "source": [
    "# Importing the required libraries\n",
    "\n",
    "import pandas as pd\n",
    "import matplotlib.pyplot as plt\n",
    "import numpy as np\n",
    "import seaborn as sns\n",
    "import os\n",
    "import glob"
   ]
  },
  {
   "cell_type": "markdown",
   "id": "2bc172da",
   "metadata": {},
   "source": [
    "1 (a) Display the systems statistics."
   ]
  },
  {
   "cell_type": "code",
   "execution_count": 23,
   "id": "f099d638",
   "metadata": {},
   "outputs": [],
   "source": [
    "# Loading the data'\n",
    "crash_folder = pd.read_csv('crashes.csv')\n",
    "errors_folder = pd.read_csv('errors.csv')"
   ]
  },
  {
   "cell_type": "code",
   "execution_count": 29,
   "id": "46f683ad",
   "metadata": {},
   "outputs": [],
   "source": [
    "# Define the list of system folders\n",
    "system_names = [\"system1\", \"system2\", \"system3\", \"system4\", \"system5\"]"
   ]
  },
  {
   "cell_type": "code",
   "execution_count": 10,
   "id": "39832078",
   "metadata": {},
   "outputs": [
    {
     "data": {
      "text/html": [
       "<div>\n",
       "<style scoped>\n",
       "    .dataframe tbody tr th:only-of-type {\n",
       "        vertical-align: middle;\n",
       "    }\n",
       "\n",
       "    .dataframe tbody tr th {\n",
       "        vertical-align: top;\n",
       "    }\n",
       "\n",
       "    .dataframe thead th {\n",
       "        text-align: right;\n",
       "    }\n",
       "</style>\n",
       "<table border=\"1\" class=\"dataframe\">\n",
       "  <thead>\n",
       "    <tr style=\"text-align: right;\">\n",
       "      <th></th>\n",
       "      <th>122 124 135 127 118</th>\n",
       "    </tr>\n",
       "  </thead>\n",
       "  <tbody>\n",
       "    <tr>\n",
       "      <th>0</th>\n",
       "      <td>118 121 133 120 121</td>\n",
       "    </tr>\n",
       "    <tr>\n",
       "      <th>1</th>\n",
       "      <td>122 133 130 123 122</td>\n",
       "    </tr>\n",
       "    <tr>\n",
       "      <th>2</th>\n",
       "      <td>128 132 136 117 113</td>\n",
       "    </tr>\n",
       "    <tr>\n",
       "      <th>3</th>\n",
       "      <td>136 121 122 111 118</td>\n",
       "    </tr>\n",
       "    <tr>\n",
       "      <th>4</th>\n",
       "      <td>132 123 118 111 128</td>\n",
       "    </tr>\n",
       "  </tbody>\n",
       "</table>\n",
       "</div>"
      ],
      "text/plain": [
       "   122 124 135 127 118\n",
       "0  118 121 133 120 121\n",
       "1  122 133 130 123 122\n",
       "2  128 132 136 117 113\n",
       "3  136 121 122 111 118\n",
       "4  132 123 118 111 128"
      ]
     },
     "execution_count": 10,
     "metadata": {},
     "output_type": "execute_result"
    }
   ],
   "source": [
    "data_folder = pd.read_csv('task1.csv') # reading the all files of task later\n",
    "data_folder.head() #checking the data"
   ]
  },
  {
   "cell_type": "code",
   "execution_count": 38,
   "id": "9b78cb89",
   "metadata": {},
   "outputs": [],
   "source": [
    "# Define Usability Equations\n",
    "def usability1(time, errors, crashes):\n",
    "    return 1/np.mean(time) + 1/np.mean(errors) + 1/np.mean(crashes)\n",
    "\n",
    "def usability2(time, trials, crashes):\n",
    "    return 1/(0.5*np.mean(time)) + 1/(100*np.mean(trials)) + 1/(70*np.mean(crashes))"
   ]
  },
  {
   "cell_type": "code",
   "execution_count": 57,
   "id": "2a75ac22",
   "metadata": {},
   "outputs": [],
   "source": [
    "# Load Data\n",
    "folders = ['System1', 'System2', 'System3', 'System4', 'System5', 'System6', 'System7']\n",
    "data = {}\n",
    "for folder in folders:\n",
    "    data[folder] = {}\n",
    "    data[folder]['time'] = pd.read_csv(folder+'time')\n",
    "    data[folder]['error'] = pd.read_csv(folder+'errors.csv').iloc[:,1]\n",
    "    data[folder]['crash'] = pd.read_csv(folder+'crashes.csv').iloc[:,1]"
   ]
  },
  {
   "cell_type": "code",
   "execution_count": 58,
   "id": "61847e22",
   "metadata": {},
   "outputs": [],
   "source": [
    "# Task 1: Display System Statistics\n",
    "print('System Statistics')\n",
    "print('-----------------')\n",
    "for folder in folders:\n",
    "    print(f'{folder}:')\n",
    "    print(f\"  - Average Time: {np.mean(data[folder]['task1'].values):.2f} seconds\")\n",
    "    print(f\"  - Average Errors: {np.mean(data[folder]['errors'].values):.2f}\")\n",
    "    print(f\"  - Average Crashes: {np.mean(data[folder]['crashes'].values):.2f}\")\n",
    "    print()"
   ]
  },
  {
   "cell_type": "code",
   "execution_count": null,
   "id": "77b5ad90",
   "metadata": {},
   "outputs": [],
   "source": [
    "# Task 1b: Plot Average Time Histogram\n",
    "avg_times = [np.mean(data[folder]['time'].values) for folder in folders]\n",
    "plt.hist(avg_times, bins=7, color='blue', alpha=0.5)\n",
    "plt.xlabel('Average Time (s)')\n",
    "plt.ylabel('Frequency')\n",
    "plt.title('Average Time Histogram')\n",
    "plt.savefig('avg_time_histogram.png')\n",
    "plt.show()"
   ]
  },
  {
   "cell_type": "code",
   "execution_count": null,
   "id": "f25b7206",
   "metadata": {},
   "outputs": [],
   "source": [
    "# Task 1c: Plot Average Errors and Crashes Histogram\n",
    "avg_errors = [np.mean(data[folder]['errors'].values) for folder in folders]\n",
    "avg_crashes = [np.mean(data[folder]['crashes'].values) for folder in folders]\n",
    "\n",
    "fig, (ax1, ax2) = plt.subplots(1, 2, figsize=(10,5))\n",
    "ax1.hist(avg_errors, bins=7, color='red', alpha=0.5)\n",
    "ax1.set_xlabel('Average Errors')\n",
    "ax1.set_ylabel('Frequency')\n",
    "ax1.set_title('Average Errors Histogram')\n",
    "\n",
    "ax2.hist(avg_crashes, bins=7, color='green', alpha=0.5)\n",
    "ax2.set_xlabel('Average Crashes')\n",
    "ax2.set_ylabel('Frequency')\n",
    "ax2.set_title('Average Crashes Histogram')\n",
    "\n",
    "plt.tight_layout()\n",
    "plt.savefig('errors_crashes_histogram.png')\n",
    "plt.show()"
   ]
  },
  {
   "cell_type": "code",
   "execution_count": null,
   "id": "b5b2ec34",
   "metadata": {},
   "outputs": [],
   "source": [
    "# Task 1d: Plot Usability Histograms\n",
    "us1 = [usability1(data[folder]['time'].values, data[folder]['errors'].values, data[folder]['crashes'].values) for folder in folders]\n",
    "us2 = [usability2(data[folder]['time'].values, data[folder]['time'].shape[1], data[folder]['crashes'].values) for folder in folders]\n",
    "\n",
    "fig, (ax1, ax2) = plt.subplots(1, 2, figsize=(10,5))\n",
    "ax1.hist(us1, bins=7, color='purple', alpha=0.5)\n",
    "ax1.set_xlabel('Usability Equation 1')\n",
    "ax1.set_ylabel('Frequency')\n",
    "ax1.set_title('Usability Equation')"
   ]
  }
 ],
 "metadata": {
  "kernelspec": {
   "display_name": "Python 3 (ipykernel)",
   "language": "python",
   "name": "python3"
  },
  "language_info": {
   "codemirror_mode": {
    "name": "ipython",
    "version": 3
   },
   "file_extension": ".py",
   "mimetype": "text/x-python",
   "name": "python",
   "nbconvert_exporter": "python",
   "pygments_lexer": "ipython3",
   "version": "3.9.13"
  }
 },
 "nbformat": 4,
 "nbformat_minor": 5
}
